{
 "cells": [
  {
   "cell_type": "code",
   "execution_count": null,
   "id": "7e0c1b70",
   "metadata": {},
   "outputs": [],
   "source": [
    "\n",
    "\n"
   ]
  },
  {
   "cell_type": "code",
   "execution_count": 3,
   "id": "bae6b3cb",
   "metadata": {},
   "outputs": [
    {
     "data": {
      "text/html": [
       "        <script type=\"text/javascript\">\n",
       "        window.PlotlyConfig = {MathJaxConfig: 'local'};\n",
       "        if (window.MathJax && window.MathJax.Hub && window.MathJax.Hub.Config) {window.MathJax.Hub.Config({SVG: {font: \"STIX-Web\"}});}\n",
       "        if (typeof require !== 'undefined') {\n",
       "        require.undef(\"plotly\");\n",
       "        requirejs.config({\n",
       "            paths: {\n",
       "                'plotly': ['https://cdn.plot.ly/plotly-2.12.1.min']\n",
       "            }\n",
       "        });\n",
       "        require(['plotly'], function(Plotly) {\n",
       "            window._Plotly = Plotly;\n",
       "        });\n",
       "        }\n",
       "        </script>\n",
       "        "
      ]
     },
     "metadata": {},
     "output_type": "display_data"
    },
    {
     "name": "stdout",
     "output_type": "stream",
     "text": [
      "no display found. Using non-interactive Agg backend\n"
     ]
    }
   ],
   "source": [
    "## Importing Required Libraries\n",
    "\n",
    "import numpy as np\n",
    "import pandas as pd\n",
    "import seaborn as sns\n",
    "import matplotlib.pyplot as plt\n",
    "%matplotlib inline\n",
    "\n",
    "#Plotly Graphing Libraries\n",
    "from plotly.offline import init_notebook_mode, iplot\n",
    "import cufflinks\n",
    "cufflinks.go_offline()\n",
    "cufflinks.set_config_file(world_readable=True, theme='pearl')\n",
    "import plotly.graph_objs as go\n",
    "import plotly\n",
    "import plotly.express as px\n",
    "\n",
    "## Machine Learning Libaries\n",
    "from sklearn import svm,metrics,tree,preprocessing,linear_model\n",
    "from sklearn.preprocessing import MinMaxScaler,StandardScaler\n",
    "import tensorflow as tf\n",
    "import keras\n",
    "from sklearn.model_selection import train_test_split,cross_val_score, cross_val_predict\n",
    "from sklearn import svm,metrics,tree,preprocessing,linear_model\n",
    "from sklearn.preprocessing import MinMaxScaler,StandardScaler\n",
    "import statsmodels.api as sm\n",
    "from sklearn.metrics import accuracy_score,mean_squared_error,recall_score,confusion_matrix,f1_score,roc_curve, auc\n",
    "from keras import Sequential\n",
    "from keras.layers import Dense, Activation\n",
    "from keras.callbacks import CSVLogger\n",
    "from sklearn.neural_network import MLPClassifier\n",
    "from dmba import classificationSummary\n",
    "\n",
    "# from tensorflow_core.estimator import inputs"
   ]
  },
  {
   "cell_type": "code",
   "execution_count": null,
   "id": "f4530be6",
   "metadata": {},
   "outputs": [],
   "source": []
  },
  {
   "cell_type": "code",
   "execution_count": null,
   "id": "23f6d18a",
   "metadata": {},
   "outputs": [],
   "source": []
  },
  {
   "cell_type": "code",
   "execution_count": 4,
   "id": "8744ac6c",
   "metadata": {},
   "outputs": [],
   "source": [
    "# Importing the dataset\n",
    "df = pd.read_csv('DataCoSupplyChainDataset.csv',header= 0,encoding= 'unicode_escape')"
   ]
  },
  {
   "cell_type": "code",
   "execution_count": 5,
   "id": "898ea938",
   "metadata": {},
   "outputs": [
    {
     "name": "stdout",
     "output_type": "stream",
     "text": [
      "1\n"
     ]
    }
   ],
   "source": [
    "df.head()"
   ]
  },
  {
   "cell_type": "code",
   "execution_count": 6,
   "id": "09fa7426",
   "metadata": {},
   "outputs": [
    {
     "name": "stdout",
     "output_type": "stream",
     "text": [
      "s\n"
     ]
    }
   ],
   "source": [
    "print(\"s\")"
   ]
  },
  {
   "cell_type": "code",
   "execution_count": null,
   "id": "f8398682",
   "metadata": {},
   "outputs": [],
   "source": []
  },
  {
   "cell_type": "markdown",
   "id": "ef73b6a1",
   "metadata": {},
   "source": [
    "## Data Description"
   ]
  },
  {
   "cell_type": "code",
   "execution_count": 7,
   "id": "b26dafcf",
   "metadata": {},
   "outputs": [
    {
     "data": {
      "text/plain": [
       "(180519, 53)"
      ]
     },
     "execution_count": 7,
     "metadata": {},
     "output_type": "execute_result"
    }
   ],
   "source": [
    "df.shape"
   ]
  },
  {
   "cell_type": "code",
   "execution_count": 8,
   "id": "024635e6",
   "metadata": {},
   "outputs": [
    {
     "name": "stdout",
     "output_type": "stream",
     "text": [
      "<class 'pandas.core.frame.DataFrame'>\n",
      "RangeIndex: 180519 entries, 0 to 180518\n",
      "Data columns (total 53 columns):\n",
      " #   Column                         Non-Null Count   Dtype  \n",
      "---  ------                         --------------   -----  \n",
      " 0   Type                           180519 non-null  object \n",
      " 1   Days for shipping (real)       180519 non-null  int64  \n",
      " 2   Days for shipment (scheduled)  180519 non-null  int64  \n",
      " 3   Benefit per order              180519 non-null  float64\n",
      " 4   Sales per customer             180519 non-null  float64\n",
      " 5   Delivery Status                180519 non-null  object \n",
      " 6   Late_delivery_risk             180519 non-null  int64  \n",
      " 7   Category Id                    180519 non-null  int64  \n",
      " 8   Category Name                  180519 non-null  object \n",
      " 9   Customer City                  180519 non-null  object \n",
      " 10  Customer Country               180519 non-null  object \n",
      " 11  Customer Email                 180519 non-null  object \n",
      " 12  Customer Fname                 180519 non-null  object \n",
      " 13  Customer Id                    180519 non-null  int64  \n",
      " 14  Customer Lname                 180511 non-null  object \n",
      " 15  Customer Password              180519 non-null  object \n",
      " 16  Customer Segment               180519 non-null  object \n",
      " 17  Customer State                 180519 non-null  object \n",
      " 18  Customer Street                180519 non-null  object \n",
      " 19  Customer Zipcode               180516 non-null  float64\n",
      " 20  Department Id                  180519 non-null  int64  \n",
      " 21  Department Name                180519 non-null  object \n",
      " 22  Latitude                       180519 non-null  float64\n",
      " 23  Longitude                      180519 non-null  float64\n",
      " 24  Market                         180519 non-null  object \n",
      " 25  Order City                     180519 non-null  object \n",
      " 26  Order Country                  180519 non-null  object \n",
      " 27  Order Customer Id              180519 non-null  int64  \n",
      " 28  order date (DateOrders)        180519 non-null  object \n",
      " 29  Order Id                       180519 non-null  int64  \n",
      " 30  Order Item Cardprod Id         180519 non-null  int64  \n",
      " 31  Order Item Discount            180519 non-null  float64\n",
      " 32  Order Item Discount Rate       180519 non-null  float64\n",
      " 33  Order Item Id                  180519 non-null  int64  \n",
      " 34  Order Item Product Price       180519 non-null  float64\n",
      " 35  Order Item Profit Ratio        180519 non-null  float64\n",
      " 36  Order Item Quantity            180519 non-null  int64  \n",
      " 37  Sales                          180519 non-null  float64\n",
      " 38  Order Item Total               180519 non-null  float64\n",
      " 39  Order Profit Per Order         180519 non-null  float64\n",
      " 40  Order Region                   180519 non-null  object \n",
      " 41  Order State                    180519 non-null  object \n",
      " 42  Order Status                   180519 non-null  object \n",
      " 43  Order Zipcode                  24840 non-null   float64\n",
      " 44  Product Card Id                180519 non-null  int64  \n",
      " 45  Product Category Id            180519 non-null  int64  \n",
      " 46  Product Description            0 non-null       float64\n",
      " 47  Product Image                  180519 non-null  object \n",
      " 48  Product Name                   180519 non-null  object \n",
      " 49  Product Price                  180519 non-null  float64\n",
      " 50  Product Status                 180519 non-null  int64  \n",
      " 51  shipping date (DateOrders)     180519 non-null  object \n",
      " 52  Shipping Mode                  180519 non-null  object \n",
      "dtypes: float64(15), int64(14), object(24)\n",
      "memory usage: 73.0+ MB\n"
     ]
    }
   ],
   "source": [
    "df.info()"
   ]
  },
  {
   "cell_type": "code",
   "execution_count": 9,
   "id": "842d2aab",
   "metadata": {},
   "outputs": [
    {
     "data": {
      "text/plain": [
       "Type                                  0\n",
       "Days for shipping (real)              0\n",
       "Days for shipment (scheduled)         0\n",
       "Benefit per order                     0\n",
       "Sales per customer                    0\n",
       "Delivery Status                       0\n",
       "Late_delivery_risk                    0\n",
       "Category Id                           0\n",
       "Category Name                         0\n",
       "Customer City                         0\n",
       "Customer Country                      0\n",
       "Customer Email                        0\n",
       "Customer Fname                        0\n",
       "Customer Id                           0\n",
       "Customer Lname                        8\n",
       "Customer Password                     0\n",
       "Customer Segment                      0\n",
       "Customer State                        0\n",
       "Customer Street                       0\n",
       "Customer Zipcode                      3\n",
       "Department Id                         0\n",
       "Department Name                       0\n",
       "Latitude                              0\n",
       "Longitude                             0\n",
       "Market                                0\n",
       "Order City                            0\n",
       "Order Country                         0\n",
       "Order Customer Id                     0\n",
       "order date (DateOrders)               0\n",
       "Order Id                              0\n",
       "Order Item Cardprod Id                0\n",
       "Order Item Discount                   0\n",
       "Order Item Discount Rate              0\n",
       "Order Item Id                         0\n",
       "Order Item Product Price              0\n",
       "Order Item Profit Ratio               0\n",
       "Order Item Quantity                   0\n",
       "Sales                                 0\n",
       "Order Item Total                      0\n",
       "Order Profit Per Order                0\n",
       "Order Region                          0\n",
       "Order State                           0\n",
       "Order Status                          0\n",
       "Order Zipcode                    155679\n",
       "Product Card Id                       0\n",
       "Product Category Id                   0\n",
       "Product Description              180519\n",
       "Product Image                         0\n",
       "Product Name                          0\n",
       "Product Price                         0\n",
       "Product Status                        0\n",
       "shipping date (DateOrders)            0\n",
       "Shipping Mode                         0\n",
       "dtype: int64"
      ]
     },
     "execution_count": 9,
     "metadata": {},
     "output_type": "execute_result"
    }
   ],
   "source": [
    "df.isnull().sum()"
   ]
  },
  {
   "cell_type": "markdown",
   "id": "e518a694",
   "metadata": {},
   "source": [
    "###### Combining the Last Name and First names to identify unique customers"
   ]
  },
  {
   "cell_type": "code",
   "execution_count": 10,
   "id": "189f5b7c",
   "metadata": {},
   "outputs": [],
   "source": [
    "df['Cust_Full_Name'] = df['Customer Fname'].astype(str) + df['Customer Lname'].astype(str)"
   ]
  },
  {
   "cell_type": "markdown",
   "id": "b94ef527",
   "metadata": {},
   "source": [
    "## Data Cleaning"
   ]
  },
  {
   "cell_type": "markdown",
   "id": "10b72454",
   "metadata": {},
   "source": [
    "Dropping unimporant columns"
   ]
  },
  {
   "cell_type": "code",
   "execution_count": 11,
   "id": "87ac003b",
   "metadata": {},
   "outputs": [],
   "source": [
    "df.drop(['Customer Email','Product Status','Customer Password','Customer Street','Customer Fname',\n",
    "         'Customer Lname','Latitude','Longitude','Product Description','Product Image','Order Zipcode',\n",
    "         'shipping date (DateOrders)'],axis=1, inplace = True)"
   ]
  },
  {
   "cell_type": "code",
   "execution_count": 12,
   "id": "6abd8139",
   "metadata": {},
   "outputs": [
    {
     "data": {
      "text/plain": [
       "(180519, 42)"
      ]
     },
     "execution_count": 12,
     "metadata": {},
     "output_type": "execute_result"
    }
   ],
   "source": [
    "df.shape"
   ]
  },
  {
   "cell_type": "code",
   "execution_count": 13,
   "id": "139c1469",
   "metadata": {},
   "outputs": [
    {
     "data": {
      "text/plain": [
       "Type                             0\n",
       "Days for shipping (real)         0\n",
       "Days for shipment (scheduled)    0\n",
       "Benefit per order                0\n",
       "Sales per customer               0\n",
       "Delivery Status                  0\n",
       "Late_delivery_risk               0\n",
       "Category Id                      0\n",
       "Category Name                    0\n",
       "Customer City                    0\n",
       "Customer Country                 0\n",
       "Customer Id                      0\n",
       "Customer Segment                 0\n",
       "Customer State                   0\n",
       "Customer Zipcode                 3\n",
       "Department Id                    0\n",
       "Department Name                  0\n",
       "Market                           0\n",
       "Order City                       0\n",
       "Order Country                    0\n",
       "Order Customer Id                0\n",
       "order date (DateOrders)          0\n",
       "Order Id                         0\n",
       "Order Item Cardprod Id           0\n",
       "Order Item Discount              0\n",
       "Order Item Discount Rate         0\n",
       "Order Item Id                    0\n",
       "Order Item Product Price         0\n",
       "Order Item Profit Ratio          0\n",
       "Order Item Quantity              0\n",
       "Sales                            0\n",
       "Order Item Total                 0\n",
       "Order Profit Per Order           0\n",
       "Order Region                     0\n",
       "Order State                      0\n",
       "Order Status                     0\n",
       "Product Card Id                  0\n",
       "Product Category Id              0\n",
       "Product Name                     0\n",
       "Product Price                    0\n",
       "Shipping Mode                    0\n",
       "Cust_Full_Name                   0\n",
       "dtype: int64"
      ]
     },
     "execution_count": 13,
     "metadata": {},
     "output_type": "execute_result"
    }
   ],
   "source": [
    "df.isnull().sum()"
   ]
  },
  {
   "cell_type": "markdown",
   "id": "ab1411f2",
   "metadata": {},
   "source": [
    "Customer Zipcode has 3 null values which we will fill with 0 as we cannot be sure of the zip code of the customers"
   ]
  },
  {
   "cell_type": "code",
   "execution_count": 14,
   "id": "c46d8249",
   "metadata": {},
   "outputs": [],
   "source": [
    "df['Customer Zipcode'] = df['Customer Zipcode'].fillna(0)"
   ]
  },
  {
   "cell_type": "code",
   "execution_count": null,
   "id": "104d295e",
   "metadata": {},
   "outputs": [],
   "source": []
  },
  {
   "cell_type": "markdown",
   "id": "0bf51e7e",
   "metadata": {},
   "source": [
    "Creating new column using the Order Date Column"
   ]
  },
  {
   "cell_type": "code",
   "execution_count": 15,
   "id": "615ed254",
   "metadata": {},
   "outputs": [
    {
     "data": {
      "text/plain": [
       "0    1/31/2018 22:56\n",
       "1    1/13/2018 12:27\n",
       "2    1/13/2018 12:06\n",
       "3    1/13/2018 11:45\n",
       "4    1/13/2018 11:24\n",
       "Name: order date (DateOrders), dtype: object"
      ]
     },
     "execution_count": 15,
     "metadata": {},
     "output_type": "execute_result"
    }
   ],
   "source": [
    "df['order date (DateOrders)'].head()"
   ]
  },
  {
   "cell_type": "code",
   "execution_count": 16,
   "id": "359c5b39",
   "metadata": {},
   "outputs": [],
   "source": [
    "## Splitting Order dates and creating new columns\n",
    "df['order_yr']= pd.DatetimeIndex(df['order date (DateOrders)']).year\n",
    "df['order_month'] = pd.DatetimeIndex(df['order date (DateOrders)']).month\n",
    "df['order_day'] = pd.DatetimeIndex(df['order date (DateOrders)']).weekday\n",
    "df['order_hour'] = pd.DatetimeIndex(df['order date (DateOrders)']).hour"
   ]
  },
  {
   "cell_type": "code",
   "execution_count": null,
   "id": "b7321a90",
   "metadata": {},
   "outputs": [],
   "source": []
  },
  {
   "cell_type": "markdown",
   "id": "2ec81676",
   "metadata": {},
   "source": [
    "## Data Visuzalization"
   ]
  },
  {
   "cell_type": "code",
   "execution_count": 17,
   "id": "a5524df4",
   "metadata": {},
   "outputs": [
    {
     "name": "stderr",
     "output_type": "stream",
     "text": [
      "/var/folders/7l/rnr84jk95834djxytnll2h8c0000gn/T/ipykernel_23327/1735471593.py:3: FutureWarning:\n",
      "\n",
      "The default value of numeric_only in DataFrame.corr is deprecated. In a future version, it will default to False. Select only valid columns or specify the value of numeric_only to silence this warning.\n",
      "\n"
     ]
    },
    {
     "data": {
      "text/plain": [
       "<Axes: >"
      ]
     },
     "execution_count": 17,
     "metadata": {},
     "output_type": "execute_result"
    }
   ],
   "source": [
    "plt.style.use(\"dark_background\")\n",
    "fig, ax = plt.subplots(figsize=(25,10))         # figsize\n",
    "sns.heatmap(df.corr(),annot=True, linewidths=.3 ,fmt='.1g', cmap= 'coolwarm')"
   ]
  },
  {
   "cell_type": "markdown",
   "id": "976b34e5",
   "metadata": {},
   "source": [
    "Some products have a negative benefit per order, indicating that the orders are costing the company money."
   ]
  },
  {
   "cell_type": "code",
   "execution_count": 18,
   "id": "c4431fd6",
   "metadata": {},
   "outputs": [],
   "source": [
    "loss = df[(df['Benefit per order']<0)]"
   ]
  },
  {
   "cell_type": "code",
   "execution_count": 19,
   "id": "29a973f2",
   "metadata": {},
   "outputs": [
    {
     "data": {
      "text/plain": [
       "(array([0, 1, 2, 3, 4]),\n",
       " [Text(0, 0, 'LATAM'),\n",
       "  Text(1, 0, 'Europe'),\n",
       "  Text(2, 0, 'Pacific Asia'),\n",
       "  Text(3, 0, 'USCA'),\n",
       "  Text(4, 0, 'Africa')])"
      ]
     },
     "execution_count": 19,
     "metadata": {},
     "output_type": "execute_result"
    }
   ],
   "source": [
    "plt.figure(1)\n",
    "loss['Category Name'].value_counts().nlargest(10).plot.bar(figsize=(15,7), title=\"Most Loss Making Products\")\n",
    "plt.xticks(rotation = 45)\n",
    "plt.figure(2)\n",
    "loss['Market'].value_counts().nlargest(10).plot.bar(figsize=(15,7), title=\"Most Loss Making Market\")\n",
    "plt.xticks(rotation = 45)"
   ]
  },
  {
   "cell_type": "markdown",
   "id": "3231e32a",
   "metadata": {},
   "source": [
    "Order Status as per the payment types"
   ]
  },
  {
   "cell_type": "code",
   "execution_count": 20,
   "id": "d40e4d18",
   "metadata": {},
   "outputs": [],
   "source": [
    "status = df.groupby('Type')['Order Status'].value_counts()\n",
    "status_df = status.to_frame()"
   ]
  },
  {
   "cell_type": "code",
   "execution_count": 21,
   "id": "a51b7766",
   "metadata": {},
   "outputs": [
    {
     "data": {
      "text/html": [
       "<div>\n",
       "<style scoped>\n",
       "    .dataframe tbody tr th:only-of-type {\n",
       "        vertical-align: middle;\n",
       "    }\n",
       "\n",
       "    .dataframe tbody tr th {\n",
       "        vertical-align: top;\n",
       "    }\n",
       "\n",
       "    .dataframe thead th {\n",
       "        text-align: right;\n",
       "    }\n",
       "</style>\n",
       "<table border=\"1\" class=\"dataframe\">\n",
       "  <thead>\n",
       "    <tr style=\"text-align: right;\">\n",
       "      <th></th>\n",
       "      <th></th>\n",
       "      <th>Order Status</th>\n",
       "    </tr>\n",
       "    <tr>\n",
       "      <th>Type</th>\n",
       "      <th>Order Status</th>\n",
       "      <th></th>\n",
       "    </tr>\n",
       "  </thead>\n",
       "  <tbody>\n",
       "    <tr>\n",
       "      <th>CASH</th>\n",
       "      <th>CLOSED</th>\n",
       "      <td>19616</td>\n",
       "    </tr>\n",
       "    <tr>\n",
       "      <th rowspan=\"2\" valign=\"top\">DEBIT</th>\n",
       "      <th>COMPLETE</th>\n",
       "      <td>59491</td>\n",
       "    </tr>\n",
       "    <tr>\n",
       "      <th>ON_HOLD</th>\n",
       "      <td>9804</td>\n",
       "    </tr>\n",
       "    <tr>\n",
       "      <th rowspan=\"2\" valign=\"top\">PAYMENT</th>\n",
       "      <th>PENDING_PAYMENT</th>\n",
       "      <td>39832</td>\n",
       "    </tr>\n",
       "    <tr>\n",
       "      <th>PAYMENT_REVIEW</th>\n",
       "      <td>1893</td>\n",
       "    </tr>\n",
       "    <tr>\n",
       "      <th rowspan=\"4\" valign=\"top\">TRANSFER</th>\n",
       "      <th>PROCESSING</th>\n",
       "      <td>21902</td>\n",
       "    </tr>\n",
       "    <tr>\n",
       "      <th>PENDING</th>\n",
       "      <td>20227</td>\n",
       "    </tr>\n",
       "    <tr>\n",
       "      <th>SUSPECTED_FRAUD</th>\n",
       "      <td>4062</td>\n",
       "    </tr>\n",
       "    <tr>\n",
       "      <th>CANCELED</th>\n",
       "      <td>3692</td>\n",
       "    </tr>\n",
       "  </tbody>\n",
       "</table>\n",
       "</div>"
      ],
      "text/plain": [
       "                          Order Status\n",
       "Type     Order Status                 \n",
       "CASH     CLOSED                  19616\n",
       "DEBIT    COMPLETE                59491\n",
       "         ON_HOLD                  9804\n",
       "PAYMENT  PENDING_PAYMENT         39832\n",
       "         PAYMENT_REVIEW           1893\n",
       "TRANSFER PROCESSING              21902\n",
       "         PENDING                 20227\n",
       "         SUSPECTED_FRAUD          4062\n",
       "         CANCELED                 3692"
      ]
     },
     "execution_count": 21,
     "metadata": {},
     "output_type": "execute_result"
    }
   ],
   "source": [
    "status_df"
   ]
  },
  {
   "cell_type": "markdown",
   "id": "92a31ae2",
   "metadata": {},
   "source": [
    "As we can see that only Transfer payments have a possible suspected fraud situation, what products have the most fraud?"
   ]
  },
  {
   "cell_type": "code",
   "execution_count": 22,
   "id": "a0c1468d",
   "metadata": {},
   "outputs": [],
   "source": [
    "fraud_region = df[(df['Order Status'] == 'SUSPECTED_FRAUD')]"
   ]
  },
  {
   "cell_type": "code",
   "execution_count": 23,
   "id": "b71d0cc1",
   "metadata": {},
   "outputs": [
    {
     "data": {
      "application/vnd.plotly.v1+json": {
       "config": {
        "linkText": "Export to plot.ly",
        "plotlyServerURL": "https://plot.ly",
        "showLink": true
       },
       "data": [
        {
         "marker": {
          "color": "rgba(255, 0, 0, 0.6)",
          "line": {
           "color": "rgba(255, 0, 0, 1.0)",
           "width": 1
          }
         },
         "name": "Category Name",
         "orientation": "v",
         "text": "",
         "type": "bar",
         "x": [
          "Cleats",
          "Men's Footwear",
          "Women's Apparel",
          "Indoor/Outdoor Games",
          "Fishing",
          "Water Sports",
          "Camping & Hiking",
          "Cardio Equipment",
          "Shop By Sport",
          "Electronics"
         ],
         "y": [
          560,
          516,
          481,
          439,
          394,
          329,
          305,
          276,
          228,
          77
         ]
        }
       ],
       "layout": {
        "legend": {
         "bgcolor": "#F5F6F9",
         "font": {
          "color": "#4D5663"
         }
        },
        "paper_bgcolor": "#F5F6F9",
        "plot_bgcolor": "#F5F6F9",
        "template": {
         "data": {
          "bar": [
           {
            "error_x": {
             "color": "#2a3f5f"
            },
            "error_y": {
             "color": "#2a3f5f"
            },
            "marker": {
             "line": {
              "color": "#E5ECF6",
              "width": 0.5
             },
             "pattern": {
              "fillmode": "overlay",
              "size": 10,
              "solidity": 0.2
             }
            },
            "type": "bar"
           }
          ],
          "barpolar": [
           {
            "marker": {
             "line": {
              "color": "#E5ECF6",
              "width": 0.5
             },
             "pattern": {
              "fillmode": "overlay",
              "size": 10,
              "solidity": 0.2
             }
            },
            "type": "barpolar"
           }
          ],
          "carpet": [
           {
            "aaxis": {
             "endlinecolor": "#2a3f5f",
             "gridcolor": "white",
             "linecolor": "white",
             "minorgridcolor": "white",
             "startlinecolor": "#2a3f5f"
            },
            "baxis": {
             "endlinecolor": "#2a3f5f",
             "gridcolor": "white",
             "linecolor": "white",
             "minorgridcolor": "white",
             "startlinecolor": "#2a3f5f"
            },
            "type": "carpet"
           }
          ],
          "choropleth": [
           {
            "colorbar": {
             "outlinewidth": 0,
             "ticks": ""
            },
            "type": "choropleth"
           }
          ],
          "contour": [
           {
            "colorbar": {
             "outlinewidth": 0,
             "ticks": ""
            },
            "colorscale": [
             [
              0,
              "#0d0887"
             ],
             [
              0.1111111111111111,
              "#46039f"
             ],
             [
              0.2222222222222222,
              "#7201a8"
             ],
             [
              0.3333333333333333,
              "#9c179e"
             ],
             [
              0.4444444444444444,
              "#bd3786"
             ],
             [
              0.5555555555555556,
              "#d8576b"
             ],
             [
              0.6666666666666666,
              "#ed7953"
             ],
             [
              0.7777777777777778,
              "#fb9f3a"
             ],
             [
              0.8888888888888888,
              "#fdca26"
             ],
             [
              1,
              "#f0f921"
             ]
            ],
            "type": "contour"
           }
          ],
          "contourcarpet": [
           {
            "colorbar": {
             "outlinewidth": 0,
             "ticks": ""
            },
            "type": "contourcarpet"
           }
          ],
          "heatmap": [
           {
            "colorbar": {
             "outlinewidth": 0,
             "ticks": ""
            },
            "colorscale": [
             [
              0,
              "#0d0887"
             ],
             [
              0.1111111111111111,
              "#46039f"
             ],
             [
              0.2222222222222222,
              "#7201a8"
             ],
             [
              0.3333333333333333,
              "#9c179e"
             ],
             [
              0.4444444444444444,
              "#bd3786"
             ],
             [
              0.5555555555555556,
              "#d8576b"
             ],
             [
              0.6666666666666666,
              "#ed7953"
             ],
             [
              0.7777777777777778,
              "#fb9f3a"
             ],
             [
              0.8888888888888888,
              "#fdca26"
             ],
             [
              1,
              "#f0f921"
             ]
            ],
            "type": "heatmap"
           }
          ],
          "heatmapgl": [
           {
            "colorbar": {
             "outlinewidth": 0,
             "ticks": ""
            },
            "colorscale": [
             [
              0,
              "#0d0887"
             ],
             [
              0.1111111111111111,
              "#46039f"
             ],
             [
              0.2222222222222222,
              "#7201a8"
             ],
             [
              0.3333333333333333,
              "#9c179e"
             ],
             [
              0.4444444444444444,
              "#bd3786"
             ],
             [
              0.5555555555555556,
              "#d8576b"
             ],
             [
              0.6666666666666666,
              "#ed7953"
             ],
             [
              0.7777777777777778,
              "#fb9f3a"
             ],
             [
              0.8888888888888888,
              "#fdca26"
             ],
             [
              1,
              "#f0f921"
             ]
            ],
            "type": "heatmapgl"
           }
          ],
          "histogram": [
           {
            "marker": {
             "pattern": {
              "fillmode": "overlay",
              "size": 10,
              "solidity": 0.2
             }
            },
            "type": "histogram"
           }
          ],
          "histogram2d": [
           {
            "colorbar": {
             "outlinewidth": 0,
             "ticks": ""
            },
            "colorscale": [
             [
              0,
              "#0d0887"
             ],
             [
              0.1111111111111111,
              "#46039f"
             ],
             [
              0.2222222222222222,
              "#7201a8"
             ],
             [
              0.3333333333333333,
              "#9c179e"
             ],
             [
              0.4444444444444444,
              "#bd3786"
             ],
             [
              0.5555555555555556,
              "#d8576b"
             ],
             [
              0.6666666666666666,
              "#ed7953"
             ],
             [
              0.7777777777777778,
              "#fb9f3a"
             ],
             [
              0.8888888888888888,
              "#fdca26"
             ],
             [
              1,
              "#f0f921"
             ]
            ],
            "type": "histogram2d"
           }
          ],
          "histogram2dcontour": [
           {
            "colorbar": {
             "outlinewidth": 0,
             "ticks": ""
            },
            "colorscale": [
             [
              0,
              "#0d0887"
             ],
             [
              0.1111111111111111,
              "#46039f"
             ],
             [
              0.2222222222222222,
              "#7201a8"
             ],
             [
              0.3333333333333333,
              "#9c179e"
             ],
             [
              0.4444444444444444,
              "#bd3786"
             ],
             [
              0.5555555555555556,
              "#d8576b"
             ],
             [
              0.6666666666666666,
              "#ed7953"
             ],
             [
              0.7777777777777778,
              "#fb9f3a"
             ],
             [
              0.8888888888888888,
              "#fdca26"
             ],
             [
              1,
              "#f0f921"
             ]
            ],
            "type": "histogram2dcontour"
           }
          ],
          "mesh3d": [
           {
            "colorbar": {
             "outlinewidth": 0,
             "ticks": ""
            },
            "type": "mesh3d"
           }
          ],
          "parcoords": [
           {
            "line": {
             "colorbar": {
              "outlinewidth": 0,
              "ticks": ""
             }
            },
            "type": "parcoords"
           }
          ],
          "pie": [
           {
            "automargin": true,
            "type": "pie"
           }
          ],
          "scatter": [
           {
            "fillpattern": {
             "fillmode": "overlay",
             "size": 10,
             "solidity": 0.2
            },
            "type": "scatter"
           }
          ],
          "scatter3d": [
           {
            "line": {
             "colorbar": {
              "outlinewidth": 0,
              "ticks": ""
             }
            },
            "marker": {
             "colorbar": {
              "outlinewidth": 0,
              "ticks": ""
             }
            },
            "type": "scatter3d"
           }
          ],
          "scattercarpet": [
           {
            "marker": {
             "colorbar": {
              "outlinewidth": 0,
              "ticks": ""
             }
            },
            "type": "scattercarpet"
           }
          ],
          "scattergeo": [
           {
            "marker": {
             "colorbar": {
              "outlinewidth": 0,
              "ticks": ""
             }
            },
            "type": "scattergeo"
           }
          ],
          "scattergl": [
           {
            "marker": {
             "colorbar": {
              "outlinewidth": 0,
              "ticks": ""
             }
            },
            "type": "scattergl"
           }
          ],
          "scattermapbox": [
           {
            "marker": {
             "colorbar": {
              "outlinewidth": 0,
              "ticks": ""
             }
            },
            "type": "scattermapbox"
           }
          ],
          "scatterpolar": [
           {
            "marker": {
             "colorbar": {
              "outlinewidth": 0,
              "ticks": ""
             }
            },
            "type": "scatterpolar"
           }
          ],
          "scatterpolargl": [
           {
            "marker": {
             "colorbar": {
              "outlinewidth": 0,
              "ticks": ""
             }
            },
            "type": "scatterpolargl"
           }
          ],
          "scatterternary": [
           {
            "marker": {
             "colorbar": {
              "outlinewidth": 0,
              "ticks": ""
             }
            },
            "type": "scatterternary"
           }
          ],
          "surface": [
           {
            "colorbar": {
             "outlinewidth": 0,
             "ticks": ""
            },
            "colorscale": [
             [
              0,
              "#0d0887"
             ],
             [
              0.1111111111111111,
              "#46039f"
             ],
             [
              0.2222222222222222,
              "#7201a8"
             ],
             [
              0.3333333333333333,
              "#9c179e"
             ],
             [
              0.4444444444444444,
              "#bd3786"
             ],
             [
              0.5555555555555556,
              "#d8576b"
             ],
             [
              0.6666666666666666,
              "#ed7953"
             ],
             [
              0.7777777777777778,
              "#fb9f3a"
             ],
             [
              0.8888888888888888,
              "#fdca26"
             ],
             [
              1,
              "#f0f921"
             ]
            ],
            "type": "surface"
           }
          ],
          "table": [
           {
            "cells": {
             "fill": {
              "color": "#EBF0F8"
             },
             "line": {
              "color": "white"
             }
            },
            "header": {
             "fill": {
              "color": "#C8D4E3"
             },
             "line": {
              "color": "white"
             }
            },
            "type": "table"
           }
          ]
         },
         "layout": {
          "annotationdefaults": {
           "arrowcolor": "#2a3f5f",
           "arrowhead": 0,
           "arrowwidth": 1
          },
          "autotypenumbers": "strict",
          "coloraxis": {
           "colorbar": {
            "outlinewidth": 0,
            "ticks": ""
           }
          },
          "colorscale": {
           "diverging": [
            [
             0,
             "#8e0152"
            ],
            [
             0.1,
             "#c51b7d"
            ],
            [
             0.2,
             "#de77ae"
            ],
            [
             0.3,
             "#f1b6da"
            ],
            [
             0.4,
             "#fde0ef"
            ],
            [
             0.5,
             "#f7f7f7"
            ],
            [
             0.6,
             "#e6f5d0"
            ],
            [
             0.7,
             "#b8e186"
            ],
            [
             0.8,
             "#7fbc41"
            ],
            [
             0.9,
             "#4d9221"
            ],
            [
             1,
             "#276419"
            ]
           ],
           "sequential": [
            [
             0,
             "#0d0887"
            ],
            [
             0.1111111111111111,
             "#46039f"
            ],
            [
             0.2222222222222222,
             "#7201a8"
            ],
            [
             0.3333333333333333,
             "#9c179e"
            ],
            [
             0.4444444444444444,
             "#bd3786"
            ],
            [
             0.5555555555555556,
             "#d8576b"
            ],
            [
             0.6666666666666666,
             "#ed7953"
            ],
            [
             0.7777777777777778,
             "#fb9f3a"
            ],
            [
             0.8888888888888888,
             "#fdca26"
            ],
            [
             1,
             "#f0f921"
            ]
           ],
           "sequentialminus": [
            [
             0,
             "#0d0887"
            ],
            [
             0.1111111111111111,
             "#46039f"
            ],
            [
             0.2222222222222222,
             "#7201a8"
            ],
            [
             0.3333333333333333,
             "#9c179e"
            ],
            [
             0.4444444444444444,
             "#bd3786"
            ],
            [
             0.5555555555555556,
             "#d8576b"
            ],
            [
             0.6666666666666666,
             "#ed7953"
            ],
            [
             0.7777777777777778,
             "#fb9f3a"
            ],
            [
             0.8888888888888888,
             "#fdca26"
            ],
            [
             1,
             "#f0f921"
            ]
           ]
          },
          "colorway": [
           "#636efa",
           "#EF553B",
           "#00cc96",
           "#ab63fa",
           "#FFA15A",
           "#19d3f3",
           "#FF6692",
           "#B6E880",
           "#FF97FF",
           "#FECB52"
          ],
          "font": {
           "color": "#2a3f5f"
          },
          "geo": {
           "bgcolor": "white",
           "lakecolor": "white",
           "landcolor": "#E5ECF6",
           "showlakes": true,
           "showland": true,
           "subunitcolor": "white"
          },
          "hoverlabel": {
           "align": "left"
          },
          "hovermode": "closest",
          "mapbox": {
           "style": "light"
          },
          "paper_bgcolor": "white",
          "plot_bgcolor": "#E5ECF6",
          "polar": {
           "angularaxis": {
            "gridcolor": "white",
            "linecolor": "white",
            "ticks": ""
           },
           "bgcolor": "#E5ECF6",
           "radialaxis": {
            "gridcolor": "white",
            "linecolor": "white",
            "ticks": ""
           }
          },
          "scene": {
           "xaxis": {
            "backgroundcolor": "#E5ECF6",
            "gridcolor": "white",
            "gridwidth": 2,
            "linecolor": "white",
            "showbackground": true,
            "ticks": "",
            "zerolinecolor": "white"
           },
           "yaxis": {
            "backgroundcolor": "#E5ECF6",
            "gridcolor": "white",
            "gridwidth": 2,
            "linecolor": "white",
            "showbackground": true,
            "ticks": "",
            "zerolinecolor": "white"
           },
           "zaxis": {
            "backgroundcolor": "#E5ECF6",
            "gridcolor": "white",
            "gridwidth": 2,
            "linecolor": "white",
            "showbackground": true,
            "ticks": "",
            "zerolinecolor": "white"
           }
          },
          "shapedefaults": {
           "line": {
            "color": "#2a3f5f"
           }
          },
          "ternary": {
           "aaxis": {
            "gridcolor": "white",
            "linecolor": "white",
            "ticks": ""
           },
           "baxis": {
            "gridcolor": "white",
            "linecolor": "white",
            "ticks": ""
           },
           "bgcolor": "#E5ECF6",
           "caxis": {
            "gridcolor": "white",
            "linecolor": "white",
            "ticks": ""
           }
          },
          "title": {
           "x": 0.05
          },
          "xaxis": {
           "automargin": true,
           "gridcolor": "white",
           "linecolor": "white",
           "ticks": "",
           "title": {
            "standoff": 15
           },
           "zerolinecolor": "white",
           "zerolinewidth": 2
          },
          "yaxis": {
           "automargin": true,
           "gridcolor": "white",
           "linecolor": "white",
           "ticks": "",
           "title": {
            "standoff": 15
           },
           "zerolinecolor": "white",
           "zerolinewidth": 2
          }
         }
        },
        "title": {
         "font": {
          "color": "#4D5663"
         },
         "text": "Count of Products with suspected fraud"
        },
        "xaxis": {
         "gridcolor": "#E1E5ED",
         "showgrid": true,
         "tickfont": {
          "color": "#4D5663"
         },
         "title": {
          "font": {
           "color": "#4D5663"
          },
          "text": "Category"
         },
         "zerolinecolor": "#E1E5ED"
        },
        "yaxis": {
         "gridcolor": "#E1E5ED",
         "showgrid": true,
         "tickfont": {
          "color": "#4D5663"
         },
         "title": {
          "font": {
           "color": "#4D5663"
          },
          "text": "Count"
         },
         "zerolinecolor": "#E1E5ED"
        }
       }
      },
      "text/html": [
       "<div>                            <div id=\"63776442-6c1a-4958-9b6d-2bff61920c02\" class=\"plotly-graph-div\" style=\"height:525px; width:100%;\"></div>            <script type=\"text/javascript\">                require([\"plotly\"], function(Plotly) {                    window.PLOTLYENV=window.PLOTLYENV || {};\n",
       "                    window.PLOTLYENV.BASE_URL='https://plot.ly';                                    if (document.getElementById(\"63776442-6c1a-4958-9b6d-2bff61920c02\")) {                    Plotly.newPlot(                        \"63776442-6c1a-4958-9b6d-2bff61920c02\",                        [{\"marker\":{\"color\":\"rgba(255, 0, 0, 0.6)\",\"line\":{\"color\":\"rgba(255, 0, 0, 1.0)\",\"width\":1}},\"name\":\"Category Name\",\"orientation\":\"v\",\"text\":\"\",\"x\":[\"Cleats\",\"Men's Footwear\",\"Women's Apparel\",\"Indoor/Outdoor Games\",\"Fishing\",\"Water Sports\",\"Camping & Hiking\",\"Cardio Equipment\",\"Shop By Sport\",\"Electronics\"],\"y\":[560,516,481,439,394,329,305,276,228,77],\"type\":\"bar\"}],                        {\"legend\":{\"bgcolor\":\"#F5F6F9\",\"font\":{\"color\":\"#4D5663\"}},\"paper_bgcolor\":\"#F5F6F9\",\"plot_bgcolor\":\"#F5F6F9\",\"template\":{\"data\":{\"barpolar\":[{\"marker\":{\"line\":{\"color\":\"#E5ECF6\",\"width\":0.5},\"pattern\":{\"fillmode\":\"overlay\",\"size\":10,\"solidity\":0.2}},\"type\":\"barpolar\"}],\"bar\":[{\"error_x\":{\"color\":\"#2a3f5f\"},\"error_y\":{\"color\":\"#2a3f5f\"},\"marker\":{\"line\":{\"color\":\"#E5ECF6\",\"width\":0.5},\"pattern\":{\"fillmode\":\"overlay\",\"size\":10,\"solidity\":0.2}},\"type\":\"bar\"}],\"carpet\":[{\"aaxis\":{\"endlinecolor\":\"#2a3f5f\",\"gridcolor\":\"white\",\"linecolor\":\"white\",\"minorgridcolor\":\"white\",\"startlinecolor\":\"#2a3f5f\"},\"baxis\":{\"endlinecolor\":\"#2a3f5f\",\"gridcolor\":\"white\",\"linecolor\":\"white\",\"minorgridcolor\":\"white\",\"startlinecolor\":\"#2a3f5f\"},\"type\":\"carpet\"}],\"choropleth\":[{\"colorbar\":{\"outlinewidth\":0,\"ticks\":\"\"},\"type\":\"choropleth\"}],\"contourcarpet\":[{\"colorbar\":{\"outlinewidth\":0,\"ticks\":\"\"},\"type\":\"contourcarpet\"}],\"contour\":[{\"colorbar\":{\"outlinewidth\":0,\"ticks\":\"\"},\"colorscale\":[[0.0,\"#0d0887\"],[0.1111111111111111,\"#46039f\"],[0.2222222222222222,\"#7201a8\"],[0.3333333333333333,\"#9c179e\"],[0.4444444444444444,\"#bd3786\"],[0.5555555555555556,\"#d8576b\"],[0.6666666666666666,\"#ed7953\"],[0.7777777777777778,\"#fb9f3a\"],[0.8888888888888888,\"#fdca26\"],[1.0,\"#f0f921\"]],\"type\":\"contour\"}],\"heatmapgl\":[{\"colorbar\":{\"outlinewidth\":0,\"ticks\":\"\"},\"colorscale\":[[0.0,\"#0d0887\"],[0.1111111111111111,\"#46039f\"],[0.2222222222222222,\"#7201a8\"],[0.3333333333333333,\"#9c179e\"],[0.4444444444444444,\"#bd3786\"],[0.5555555555555556,\"#d8576b\"],[0.6666666666666666,\"#ed7953\"],[0.7777777777777778,\"#fb9f3a\"],[0.8888888888888888,\"#fdca26\"],[1.0,\"#f0f921\"]],\"type\":\"heatmapgl\"}],\"heatmap\":[{\"colorbar\":{\"outlinewidth\":0,\"ticks\":\"\"},\"colorscale\":[[0.0,\"#0d0887\"],[0.1111111111111111,\"#46039f\"],[0.2222222222222222,\"#7201a8\"],[0.3333333333333333,\"#9c179e\"],[0.4444444444444444,\"#bd3786\"],[0.5555555555555556,\"#d8576b\"],[0.6666666666666666,\"#ed7953\"],[0.7777777777777778,\"#fb9f3a\"],[0.8888888888888888,\"#fdca26\"],[1.0,\"#f0f921\"]],\"type\":\"heatmap\"}],\"histogram2dcontour\":[{\"colorbar\":{\"outlinewidth\":0,\"ticks\":\"\"},\"colorscale\":[[0.0,\"#0d0887\"],[0.1111111111111111,\"#46039f\"],[0.2222222222222222,\"#7201a8\"],[0.3333333333333333,\"#9c179e\"],[0.4444444444444444,\"#bd3786\"],[0.5555555555555556,\"#d8576b\"],[0.6666666666666666,\"#ed7953\"],[0.7777777777777778,\"#fb9f3a\"],[0.8888888888888888,\"#fdca26\"],[1.0,\"#f0f921\"]],\"type\":\"histogram2dcontour\"}],\"histogram2d\":[{\"colorbar\":{\"outlinewidth\":0,\"ticks\":\"\"},\"colorscale\":[[0.0,\"#0d0887\"],[0.1111111111111111,\"#46039f\"],[0.2222222222222222,\"#7201a8\"],[0.3333333333333333,\"#9c179e\"],[0.4444444444444444,\"#bd3786\"],[0.5555555555555556,\"#d8576b\"],[0.6666666666666666,\"#ed7953\"],[0.7777777777777778,\"#fb9f3a\"],[0.8888888888888888,\"#fdca26\"],[1.0,\"#f0f921\"]],\"type\":\"histogram2d\"}],\"histogram\":[{\"marker\":{\"pattern\":{\"fillmode\":\"overlay\",\"size\":10,\"solidity\":0.2}},\"type\":\"histogram\"}],\"mesh3d\":[{\"colorbar\":{\"outlinewidth\":0,\"ticks\":\"\"},\"type\":\"mesh3d\"}],\"parcoords\":[{\"line\":{\"colorbar\":{\"outlinewidth\":0,\"ticks\":\"\"}},\"type\":\"parcoords\"}],\"pie\":[{\"automargin\":true,\"type\":\"pie\"}],\"scatter3d\":[{\"line\":{\"colorbar\":{\"outlinewidth\":0,\"ticks\":\"\"}},\"marker\":{\"colorbar\":{\"outlinewidth\":0,\"ticks\":\"\"}},\"type\":\"scatter3d\"}],\"scattercarpet\":[{\"marker\":{\"colorbar\":{\"outlinewidth\":0,\"ticks\":\"\"}},\"type\":\"scattercarpet\"}],\"scattergeo\":[{\"marker\":{\"colorbar\":{\"outlinewidth\":0,\"ticks\":\"\"}},\"type\":\"scattergeo\"}],\"scattergl\":[{\"marker\":{\"colorbar\":{\"outlinewidth\":0,\"ticks\":\"\"}},\"type\":\"scattergl\"}],\"scattermapbox\":[{\"marker\":{\"colorbar\":{\"outlinewidth\":0,\"ticks\":\"\"}},\"type\":\"scattermapbox\"}],\"scatterpolargl\":[{\"marker\":{\"colorbar\":{\"outlinewidth\":0,\"ticks\":\"\"}},\"type\":\"scatterpolargl\"}],\"scatterpolar\":[{\"marker\":{\"colorbar\":{\"outlinewidth\":0,\"ticks\":\"\"}},\"type\":\"scatterpolar\"}],\"scatter\":[{\"fillpattern\":{\"fillmode\":\"overlay\",\"size\":10,\"solidity\":0.2},\"type\":\"scatter\"}],\"scatterternary\":[{\"marker\":{\"colorbar\":{\"outlinewidth\":0,\"ticks\":\"\"}},\"type\":\"scatterternary\"}],\"surface\":[{\"colorbar\":{\"outlinewidth\":0,\"ticks\":\"\"},\"colorscale\":[[0.0,\"#0d0887\"],[0.1111111111111111,\"#46039f\"],[0.2222222222222222,\"#7201a8\"],[0.3333333333333333,\"#9c179e\"],[0.4444444444444444,\"#bd3786\"],[0.5555555555555556,\"#d8576b\"],[0.6666666666666666,\"#ed7953\"],[0.7777777777777778,\"#fb9f3a\"],[0.8888888888888888,\"#fdca26\"],[1.0,\"#f0f921\"]],\"type\":\"surface\"}],\"table\":[{\"cells\":{\"fill\":{\"color\":\"#EBF0F8\"},\"line\":{\"color\":\"white\"}},\"header\":{\"fill\":{\"color\":\"#C8D4E3\"},\"line\":{\"color\":\"white\"}},\"type\":\"table\"}]},\"layout\":{\"annotationdefaults\":{\"arrowcolor\":\"#2a3f5f\",\"arrowhead\":0,\"arrowwidth\":1},\"autotypenumbers\":\"strict\",\"coloraxis\":{\"colorbar\":{\"outlinewidth\":0,\"ticks\":\"\"}},\"colorscale\":{\"diverging\":[[0,\"#8e0152\"],[0.1,\"#c51b7d\"],[0.2,\"#de77ae\"],[0.3,\"#f1b6da\"],[0.4,\"#fde0ef\"],[0.5,\"#f7f7f7\"],[0.6,\"#e6f5d0\"],[0.7,\"#b8e186\"],[0.8,\"#7fbc41\"],[0.9,\"#4d9221\"],[1,\"#276419\"]],\"sequential\":[[0.0,\"#0d0887\"],[0.1111111111111111,\"#46039f\"],[0.2222222222222222,\"#7201a8\"],[0.3333333333333333,\"#9c179e\"],[0.4444444444444444,\"#bd3786\"],[0.5555555555555556,\"#d8576b\"],[0.6666666666666666,\"#ed7953\"],[0.7777777777777778,\"#fb9f3a\"],[0.8888888888888888,\"#fdca26\"],[1.0,\"#f0f921\"]],\"sequentialminus\":[[0.0,\"#0d0887\"],[0.1111111111111111,\"#46039f\"],[0.2222222222222222,\"#7201a8\"],[0.3333333333333333,\"#9c179e\"],[0.4444444444444444,\"#bd3786\"],[0.5555555555555556,\"#d8576b\"],[0.6666666666666666,\"#ed7953\"],[0.7777777777777778,\"#fb9f3a\"],[0.8888888888888888,\"#fdca26\"],[1.0,\"#f0f921\"]]},\"colorway\":[\"#636efa\",\"#EF553B\",\"#00cc96\",\"#ab63fa\",\"#FFA15A\",\"#19d3f3\",\"#FF6692\",\"#B6E880\",\"#FF97FF\",\"#FECB52\"],\"font\":{\"color\":\"#2a3f5f\"},\"geo\":{\"bgcolor\":\"white\",\"lakecolor\":\"white\",\"landcolor\":\"#E5ECF6\",\"showlakes\":true,\"showland\":true,\"subunitcolor\":\"white\"},\"hoverlabel\":{\"align\":\"left\"},\"hovermode\":\"closest\",\"mapbox\":{\"style\":\"light\"},\"paper_bgcolor\":\"white\",\"plot_bgcolor\":\"#E5ECF6\",\"polar\":{\"angularaxis\":{\"gridcolor\":\"white\",\"linecolor\":\"white\",\"ticks\":\"\"},\"bgcolor\":\"#E5ECF6\",\"radialaxis\":{\"gridcolor\":\"white\",\"linecolor\":\"white\",\"ticks\":\"\"}},\"scene\":{\"xaxis\":{\"backgroundcolor\":\"#E5ECF6\",\"gridcolor\":\"white\",\"gridwidth\":2,\"linecolor\":\"white\",\"showbackground\":true,\"ticks\":\"\",\"zerolinecolor\":\"white\"},\"yaxis\":{\"backgroundcolor\":\"#E5ECF6\",\"gridcolor\":\"white\",\"gridwidth\":2,\"linecolor\":\"white\",\"showbackground\":true,\"ticks\":\"\",\"zerolinecolor\":\"white\"},\"zaxis\":{\"backgroundcolor\":\"#E5ECF6\",\"gridcolor\":\"white\",\"gridwidth\":2,\"linecolor\":\"white\",\"showbackground\":true,\"ticks\":\"\",\"zerolinecolor\":\"white\"}},\"shapedefaults\":{\"line\":{\"color\":\"#2a3f5f\"}},\"ternary\":{\"aaxis\":{\"gridcolor\":\"white\",\"linecolor\":\"white\",\"ticks\":\"\"},\"baxis\":{\"gridcolor\":\"white\",\"linecolor\":\"white\",\"ticks\":\"\"},\"bgcolor\":\"#E5ECF6\",\"caxis\":{\"gridcolor\":\"white\",\"linecolor\":\"white\",\"ticks\":\"\"}},\"title\":{\"x\":0.05},\"xaxis\":{\"automargin\":true,\"gridcolor\":\"white\",\"linecolor\":\"white\",\"ticks\":\"\",\"title\":{\"standoff\":15},\"zerolinecolor\":\"white\",\"zerolinewidth\":2},\"yaxis\":{\"automargin\":true,\"gridcolor\":\"white\",\"linecolor\":\"white\",\"ticks\":\"\",\"title\":{\"standoff\":15},\"zerolinecolor\":\"white\",\"zerolinewidth\":2}}},\"title\":{\"font\":{\"color\":\"#4D5663\"},\"text\":\"Count of Products with suspected fraud\"},\"xaxis\":{\"gridcolor\":\"#E1E5ED\",\"showgrid\":true,\"tickfont\":{\"color\":\"#4D5663\"},\"title\":{\"font\":{\"color\":\"#4D5663\"},\"text\":\"Category\"},\"zerolinecolor\":\"#E1E5ED\"},\"yaxis\":{\"gridcolor\":\"#E1E5ED\",\"showgrid\":true,\"tickfont\":{\"color\":\"#4D5663\"},\"title\":{\"font\":{\"color\":\"#4D5663\"},\"text\":\"Count\"},\"zerolinecolor\":\"#E1E5ED\"}},                        {\"showLink\": true, \"linkText\": \"Export to plot.ly\", \"plotlyServerURL\": \"https://plot.ly\", \"responsive\": true}                    ).then(function(){\n",
       "                            \n",
       "var gd = document.getElementById('63776442-6c1a-4958-9b6d-2bff61920c02');\n",
       "var x = new MutationObserver(function (mutations, observer) {{\n",
       "        var display = window.getComputedStyle(gd).display;\n",
       "        if (!display || display === 'none') {{\n",
       "            console.log([gd, 'removed!']);\n",
       "            Plotly.purge(gd);\n",
       "            observer.disconnect();\n",
       "        }}\n",
       "}});\n",
       "\n",
       "// Listen for the removal of the full notebook cells\n",
       "var notebookContainer = gd.closest('#notebook-container');\n",
       "if (notebookContainer) {{\n",
       "    x.observe(notebookContainer, {childList: true});\n",
       "}}\n",
       "\n",
       "// Listen for the clearing of the current output cell\n",
       "var outputEl = gd.closest('.output');\n",
       "if (outputEl) {{\n",
       "    x.observe(outputEl, {childList: true});\n",
       "}}\n",
       "\n",
       "                        })                };                });            </script>        </div>"
      ]
     },
     "metadata": {},
     "output_type": "display_data"
    }
   ],
   "source": [
    "plt.style.use(\"dark_background\")\n",
    "temp = fraud_region['Category Name'].value_counts().nlargest(10)\n",
    "temp.iplot(kind='bar', xTitle = 'Category', yTitle = \"Count\", title = 'Count of Products with suspected fraud', color = '#FF0000')"
   ]
  },
  {
   "cell_type": "markdown",
   "id": "f405e23b",
   "metadata": {},
   "source": [
    "## Data Modelling and Neural Networks to predict possible fraud"
   ]
  },
  {
   "cell_type": "code",
   "execution_count": 24,
   "id": "a7429d49",
   "metadata": {},
   "outputs": [],
   "source": [
    "# Creating a copy of the datafram\n",
    "train_df = df.copy()"
   ]
  },
  {
   "cell_type": "code",
   "execution_count": 25,
   "id": "3092c889",
   "metadata": {},
   "outputs": [],
   "source": [
    "# Creating Binary enocode for Suspected Fraud and Late delivery\n",
    "\n",
    "train_df['fraud'] = np.where(train_df['Order Status'] == 'SUSPECTED_FRAUD', 1, 0)\n",
    "train_df['late_delivery']=np.where(train_df['Delivery Status'] == 'Late delivery', 1, 0)"
   ]
  },
  {
   "cell_type": "code",
   "execution_count": 26,
   "id": "1ac9b221",
   "metadata": {},
   "outputs": [
    {
     "data": {
      "text/plain": [
       "Index(['Type', 'Days for shipping (real)', 'Days for shipment (scheduled)',\n",
       "       'Benefit per order', 'Sales per customer', 'Delivery Status',\n",
       "       'Late_delivery_risk', 'Category Id', 'Category Name', 'Customer City',\n",
       "       'Customer Country', 'Customer Id', 'Customer Segment', 'Customer State',\n",
       "       'Customer Zipcode', 'Department Id', 'Department Name', 'Market',\n",
       "       'Order City', 'Order Country', 'Order Customer Id',\n",
       "       'order date (DateOrders)', 'Order Id', 'Order Item Cardprod Id',\n",
       "       'Order Item Discount', 'Order Item Discount Rate', 'Order Item Id',\n",
       "       'Order Item Product Price', 'Order Item Profit Ratio',\n",
       "       'Order Item Quantity', 'Sales', 'Order Item Total',\n",
       "       'Order Profit Per Order', 'Order Region', 'Order State', 'Order Status',\n",
       "       'Product Card Id', 'Product Category Id', 'Product Name',\n",
       "       'Product Price', 'Shipping Mode', 'Cust_Full_Name', 'order_yr',\n",
       "       'order_month', 'order_day', 'order_hour', 'fraud', 'late_delivery'],\n",
       "      dtype='object')"
      ]
     },
     "execution_count": 26,
     "metadata": {},
     "output_type": "execute_result"
    }
   ],
   "source": [
    "train_df.columns"
   ]
  },
  {
   "cell_type": "code",
   "execution_count": 27,
   "id": "a994351f",
   "metadata": {},
   "outputs": [],
   "source": [
    "## Removing Identical columns after creating new columns \n",
    "\n",
    "train_df.drop(['Delivery Status','Late_delivery_risk','Order Status','order date (DateOrders)'], axis=1, inplace=True)"
   ]
  },
  {
   "cell_type": "code",
   "execution_count": 28,
   "id": "7b801bdd",
   "metadata": {},
   "outputs": [
    {
     "data": {
      "text/plain": [
       "(180519, 44)"
      ]
     },
     "execution_count": 28,
     "metadata": {},
     "output_type": "execute_result"
    }
   ],
   "source": [
    "## Final dimensions of the dataset after wrangling and cleaning\n",
    "\n",
    "train_df.shape"
   ]
  },
  {
   "cell_type": "code",
   "execution_count": 29,
   "id": "c8005d0a",
   "metadata": {},
   "outputs": [
    {
     "data": {
      "text/plain": [
       "Type                              object\n",
       "Days for shipping (real)           int64\n",
       "Days for shipment (scheduled)      int64\n",
       "Benefit per order                float64\n",
       "Sales per customer               float64\n",
       "Category Id                        int64\n",
       "Category Name                     object\n",
       "Customer City                     object\n",
       "Customer Country                  object\n",
       "Customer Id                        int64\n",
       "Customer Segment                  object\n",
       "Customer State                    object\n",
       "Customer Zipcode                 float64\n",
       "Department Id                      int64\n",
       "Department Name                   object\n",
       "Market                            object\n",
       "Order City                        object\n",
       "Order Country                     object\n",
       "Order Customer Id                  int64\n",
       "Order Id                           int64\n",
       "Order Item Cardprod Id             int64\n",
       "Order Item Discount              float64\n",
       "Order Item Discount Rate         float64\n",
       "Order Item Id                      int64\n",
       "Order Item Product Price         float64\n",
       "Order Item Profit Ratio          float64\n",
       "Order Item Quantity                int64\n",
       "Sales                            float64\n",
       "Order Item Total                 float64\n",
       "Order Profit Per Order           float64\n",
       "Order Region                      object\n",
       "Order State                       object\n",
       "Product Card Id                    int64\n",
       "Product Category Id                int64\n",
       "Product Name                      object\n",
       "Product Price                    float64\n",
       "Shipping Mode                     object\n",
       "Cust_Full_Name                    object\n",
       "order_yr                           int64\n",
       "order_month                        int64\n",
       "order_day                          int64\n",
       "order_hour                         int64\n",
       "fraud                              int64\n",
       "late_delivery                      int64\n",
       "dtype: object"
      ]
     },
     "execution_count": 29,
     "metadata": {},
     "output_type": "execute_result"
    }
   ],
   "source": [
    "train_df.dtypes"
   ]
  },
  {
   "cell_type": "markdown",
   "id": "e7eee61f",
   "metadata": {},
   "source": [
    "### Encoding all Object type variables"
   ]
  },
  {
   "cell_type": "code",
   "execution_count": 30,
   "id": "e836a81d",
   "metadata": {},
   "outputs": [],
   "source": [
    "le = preprocessing.LabelEncoder()\n",
    "#convert the categorical columns into numeric\n",
    "train_df['Customer Country']  = le.fit_transform(train_df['Customer Country'])\n",
    "train_df['Market']            = le.fit_transform(train_df['Market'])\n",
    "train_df['Type']              = le.fit_transform(train_df['Type'])\n",
    "train_df['Product Name']      = le.fit_transform(train_df['Product Name'])\n",
    "train_df['Customer Segment']  = le.fit_transform(train_df['Customer Segment'])\n",
    "train_df['Customer State']    = le.fit_transform(train_df['Customer State'])\n",
    "train_df['Order Region']      = le.fit_transform(train_df['Order Region'])\n",
    "train_df['Order City']        = le.fit_transform(train_df['Order City'])\n",
    "train_df['Category Name']     = le.fit_transform(train_df['Category Name'])\n",
    "train_df['Customer City']     = le.fit_transform(train_df['Customer City'])\n",
    "train_df['Department Name']   = le.fit_transform(train_df['Department Name'])\n",
    "train_df['Order State']       = le.fit_transform(train_df['Order State'])\n",
    "train_df['Shipping Mode']     = le.fit_transform(train_df['Shipping Mode'])\n",
    "train_df['Order Country']     = le.fit_transform(train_df['Order Country'])\n",
    "train_df['Cust_Full_Name']    = le.fit_transform(train_df['Cust_Full_Name'])"
   ]
  },
  {
   "cell_type": "code",
   "execution_count": 31,
   "id": "ec040225",
   "metadata": {},
   "outputs": [
    {
     "data": {
      "text/html": [
       "<div>\n",
       "<style scoped>\n",
       "    .dataframe tbody tr th:only-of-type {\n",
       "        vertical-align: middle;\n",
       "    }\n",
       "\n",
       "    .dataframe tbody tr th {\n",
       "        vertical-align: top;\n",
       "    }\n",
       "\n",
       "    .dataframe thead th {\n",
       "        text-align: right;\n",
       "    }\n",
       "</style>\n",
       "<table border=\"1\" class=\"dataframe\">\n",
       "  <thead>\n",
       "    <tr style=\"text-align: right;\">\n",
       "      <th></th>\n",
       "      <th>Type</th>\n",
       "      <th>Days for shipping (real)</th>\n",
       "      <th>Days for shipment (scheduled)</th>\n",
       "      <th>Benefit per order</th>\n",
       "      <th>Sales per customer</th>\n",
       "      <th>Category Id</th>\n",
       "      <th>Category Name</th>\n",
       "      <th>Customer City</th>\n",
       "      <th>Customer Country</th>\n",
       "      <th>Customer Id</th>\n",
       "      <th>...</th>\n",
       "      <th>Product Name</th>\n",
       "      <th>Product Price</th>\n",
       "      <th>Shipping Mode</th>\n",
       "      <th>Cust_Full_Name</th>\n",
       "      <th>order_yr</th>\n",
       "      <th>order_month</th>\n",
       "      <th>order_day</th>\n",
       "      <th>order_hour</th>\n",
       "      <th>fraud</th>\n",
       "      <th>late_delivery</th>\n",
       "    </tr>\n",
       "  </thead>\n",
       "  <tbody>\n",
       "    <tr>\n",
       "      <th>0</th>\n",
       "      <td>1</td>\n",
       "      <td>3</td>\n",
       "      <td>4</td>\n",
       "      <td>91.250000</td>\n",
       "      <td>314.640015</td>\n",
       "      <td>73</td>\n",
       "      <td>40</td>\n",
       "      <td>66</td>\n",
       "      <td>1</td>\n",
       "      <td>20755</td>\n",
       "      <td>...</td>\n",
       "      <td>78</td>\n",
       "      <td>327.75</td>\n",
       "      <td>3</td>\n",
       "      <td>1876</td>\n",
       "      <td>2018</td>\n",
       "      <td>1</td>\n",
       "      <td>2</td>\n",
       "      <td>22</td>\n",
       "      <td>0</td>\n",
       "      <td>0</td>\n",
       "    </tr>\n",
       "    <tr>\n",
       "      <th>1</th>\n",
       "      <td>3</td>\n",
       "      <td>5</td>\n",
       "      <td>4</td>\n",
       "      <td>-249.089996</td>\n",
       "      <td>311.359985</td>\n",
       "      <td>73</td>\n",
       "      <td>40</td>\n",
       "      <td>66</td>\n",
       "      <td>1</td>\n",
       "      <td>19492</td>\n",
       "      <td>...</td>\n",
       "      <td>78</td>\n",
       "      <td>327.75</td>\n",
       "      <td>3</td>\n",
       "      <td>5378</td>\n",
       "      <td>2018</td>\n",
       "      <td>1</td>\n",
       "      <td>5</td>\n",
       "      <td>12</td>\n",
       "      <td>0</td>\n",
       "      <td>1</td>\n",
       "    </tr>\n",
       "    <tr>\n",
       "      <th>2</th>\n",
       "      <td>0</td>\n",
       "      <td>4</td>\n",
       "      <td>4</td>\n",
       "      <td>-247.779999</td>\n",
       "      <td>309.720001</td>\n",
       "      <td>73</td>\n",
       "      <td>40</td>\n",
       "      <td>452</td>\n",
       "      <td>0</td>\n",
       "      <td>19491</td>\n",
       "      <td>...</td>\n",
       "      <td>78</td>\n",
       "      <td>327.75</td>\n",
       "      <td>3</td>\n",
       "      <td>4429</td>\n",
       "      <td>2018</td>\n",
       "      <td>1</td>\n",
       "      <td>5</td>\n",
       "      <td>12</td>\n",
       "      <td>0</td>\n",
       "      <td>0</td>\n",
       "    </tr>\n",
       "    <tr>\n",
       "      <th>3</th>\n",
       "      <td>1</td>\n",
       "      <td>3</td>\n",
       "      <td>4</td>\n",
       "      <td>22.860001</td>\n",
       "      <td>304.809998</td>\n",
       "      <td>73</td>\n",
       "      <td>40</td>\n",
       "      <td>285</td>\n",
       "      <td>0</td>\n",
       "      <td>19490</td>\n",
       "      <td>...</td>\n",
       "      <td>78</td>\n",
       "      <td>327.75</td>\n",
       "      <td>3</td>\n",
       "      <td>12929</td>\n",
       "      <td>2018</td>\n",
       "      <td>1</td>\n",
       "      <td>5</td>\n",
       "      <td>11</td>\n",
       "      <td>0</td>\n",
       "      <td>0</td>\n",
       "    </tr>\n",
       "    <tr>\n",
       "      <th>4</th>\n",
       "      <td>2</td>\n",
       "      <td>2</td>\n",
       "      <td>4</td>\n",
       "      <td>134.210007</td>\n",
       "      <td>298.250000</td>\n",
       "      <td>73</td>\n",
       "      <td>40</td>\n",
       "      <td>66</td>\n",
       "      <td>1</td>\n",
       "      <td>19489</td>\n",
       "      <td>...</td>\n",
       "      <td>78</td>\n",
       "      <td>327.75</td>\n",
       "      <td>3</td>\n",
       "      <td>10638</td>\n",
       "      <td>2018</td>\n",
       "      <td>1</td>\n",
       "      <td>5</td>\n",
       "      <td>11</td>\n",
       "      <td>0</td>\n",
       "      <td>0</td>\n",
       "    </tr>\n",
       "  </tbody>\n",
       "</table>\n",
       "<p>5 rows × 44 columns</p>\n",
       "</div>"
      ],
      "text/plain": [
       "   Type  Days for shipping (real)  Days for shipment (scheduled)  \\\n",
       "0     1                         3                              4   \n",
       "1     3                         5                              4   \n",
       "2     0                         4                              4   \n",
       "3     1                         3                              4   \n",
       "4     2                         2                              4   \n",
       "\n",
       "   Benefit per order  Sales per customer  Category Id  Category Name  \\\n",
       "0          91.250000          314.640015           73             40   \n",
       "1        -249.089996          311.359985           73             40   \n",
       "2        -247.779999          309.720001           73             40   \n",
       "3          22.860001          304.809998           73             40   \n",
       "4         134.210007          298.250000           73             40   \n",
       "\n",
       "   Customer City  Customer Country  Customer Id  ...  Product Name  \\\n",
       "0             66                 1        20755  ...            78   \n",
       "1             66                 1        19492  ...            78   \n",
       "2            452                 0        19491  ...            78   \n",
       "3            285                 0        19490  ...            78   \n",
       "4             66                 1        19489  ...            78   \n",
       "\n",
       "   Product Price  Shipping Mode  Cust_Full_Name  order_yr  order_month  \\\n",
       "0         327.75              3            1876      2018            1   \n",
       "1         327.75              3            5378      2018            1   \n",
       "2         327.75              3            4429      2018            1   \n",
       "3         327.75              3           12929      2018            1   \n",
       "4         327.75              3           10638      2018            1   \n",
       "\n",
       "   order_day  order_hour  fraud  late_delivery  \n",
       "0          2          22      0              0  \n",
       "1          5          12      0              1  \n",
       "2          5          12      0              0  \n",
       "3          5          11      0              0  \n",
       "4          5          11      0              0  \n",
       "\n",
       "[5 rows x 44 columns]"
      ]
     },
     "execution_count": 31,
     "metadata": {},
     "output_type": "execute_result"
    }
   ],
   "source": [
    "train_df.head()"
   ]
  },
  {
   "cell_type": "markdown",
   "id": "ebe94ec2",
   "metadata": {},
   "source": [
    "## Preparing Data for Neural Networks"
   ]
  },
  {
   "cell_type": "markdown",
   "id": "67d839ef",
   "metadata": {},
   "source": [
    "Creating a Validation Set from the orignal data"
   ]
  },
  {
   "cell_type": "code",
   "execution_count": 32,
   "id": "165ab189",
   "metadata": {},
   "outputs": [],
   "source": [
    "# rows = int(train_df.shape[0] * 0.1)\n",
    "\n",
    "# randomly select the specified number of rows\n",
    "# random_rows = np.random.choice(train_df.index, rows, replace=False)\n",
    "\n",
    "# create a new dataframe from the randomly selected rows\n",
    "# validation_df = df.loc[random_rows]\n",
    "\n",
    "# Dropping those rows from the original dataset\n",
    "# train_df.drop(random_rows,inplace = True)"
   ]
  },
  {
   "cell_type": "code",
   "execution_count": 33,
   "id": "05daa28b",
   "metadata": {},
   "outputs": [
    {
     "data": {
      "text/html": [
       "<div>\n",
       "<style scoped>\n",
       "    .dataframe tbody tr th:only-of-type {\n",
       "        vertical-align: middle;\n",
       "    }\n",
       "\n",
       "    .dataframe tbody tr th {\n",
       "        vertical-align: top;\n",
       "    }\n",
       "\n",
       "    .dataframe thead th {\n",
       "        text-align: right;\n",
       "    }\n",
       "</style>\n",
       "<table border=\"1\" class=\"dataframe\">\n",
       "  <thead>\n",
       "    <tr style=\"text-align: right;\">\n",
       "      <th></th>\n",
       "      <th>Type</th>\n",
       "      <th>Days for shipping (real)</th>\n",
       "      <th>Days for shipment (scheduled)</th>\n",
       "      <th>Benefit per order</th>\n",
       "      <th>Sales per customer</th>\n",
       "      <th>Category Id</th>\n",
       "      <th>Category Name</th>\n",
       "      <th>Customer City</th>\n",
       "      <th>Customer Country</th>\n",
       "      <th>Customer Id</th>\n",
       "      <th>...</th>\n",
       "      <th>Product Name</th>\n",
       "      <th>Product Price</th>\n",
       "      <th>Shipping Mode</th>\n",
       "      <th>Cust_Full_Name</th>\n",
       "      <th>order_yr</th>\n",
       "      <th>order_month</th>\n",
       "      <th>order_day</th>\n",
       "      <th>order_hour</th>\n",
       "      <th>fraud</th>\n",
       "      <th>late_delivery</th>\n",
       "    </tr>\n",
       "  </thead>\n",
       "  <tbody>\n",
       "    <tr>\n",
       "      <th>101369</th>\n",
       "      <td>3</td>\n",
       "      <td>2</td>\n",
       "      <td>4</td>\n",
       "      <td>71.849998</td>\n",
       "      <td>197.919998</td>\n",
       "      <td>46</td>\n",
       "      <td>30</td>\n",
       "      <td>529</td>\n",
       "      <td>0</td>\n",
       "      <td>6862</td>\n",
       "      <td>...</td>\n",
       "      <td>67</td>\n",
       "      <td>49.980000</td>\n",
       "      <td>3</td>\n",
       "      <td>9418</td>\n",
       "      <td>2016</td>\n",
       "      <td>4</td>\n",
       "      <td>4</td>\n",
       "      <td>11</td>\n",
       "      <td>0</td>\n",
       "      <td>0</td>\n",
       "    </tr>\n",
       "    <tr>\n",
       "      <th>3026</th>\n",
       "      <td>2</td>\n",
       "      <td>5</td>\n",
       "      <td>4</td>\n",
       "      <td>57.529999</td>\n",
       "      <td>164.380005</td>\n",
       "      <td>67</td>\n",
       "      <td>16</td>\n",
       "      <td>66</td>\n",
       "      <td>1</td>\n",
       "      <td>15052</td>\n",
       "      <td>...</td>\n",
       "      <td>17</td>\n",
       "      <td>164.380005</td>\n",
       "      <td>3</td>\n",
       "      <td>7715</td>\n",
       "      <td>2017</td>\n",
       "      <td>11</td>\n",
       "      <td>3</td>\n",
       "      <td>16</td>\n",
       "      <td>0</td>\n",
       "      <td>1</td>\n",
       "    </tr>\n",
       "    <tr>\n",
       "      <th>57549</th>\n",
       "      <td>1</td>\n",
       "      <td>5</td>\n",
       "      <td>4</td>\n",
       "      <td>22.680000</td>\n",
       "      <td>226.759995</td>\n",
       "      <td>17</td>\n",
       "      <td>12</td>\n",
       "      <td>66</td>\n",
       "      <td>1</td>\n",
       "      <td>7391</td>\n",
       "      <td>...</td>\n",
       "      <td>71</td>\n",
       "      <td>59.990002</td>\n",
       "      <td>3</td>\n",
       "      <td>8910</td>\n",
       "      <td>2016</td>\n",
       "      <td>10</td>\n",
       "      <td>2</td>\n",
       "      <td>2</td>\n",
       "      <td>0</td>\n",
       "      <td>1</td>\n",
       "    </tr>\n",
       "    <tr>\n",
       "      <th>127144</th>\n",
       "      <td>2</td>\n",
       "      <td>6</td>\n",
       "      <td>4</td>\n",
       "      <td>-3.020000</td>\n",
       "      <td>103.989998</td>\n",
       "      <td>18</td>\n",
       "      <td>34</td>\n",
       "      <td>66</td>\n",
       "      <td>1</td>\n",
       "      <td>2588</td>\n",
       "      <td>...</td>\n",
       "      <td>56</td>\n",
       "      <td>129.990005</td>\n",
       "      <td>3</td>\n",
       "      <td>9384</td>\n",
       "      <td>2015</td>\n",
       "      <td>2</td>\n",
       "      <td>5</td>\n",
       "      <td>0</td>\n",
       "      <td>0</td>\n",
       "      <td>1</td>\n",
       "    </tr>\n",
       "    <tr>\n",
       "      <th>160375</th>\n",
       "      <td>3</td>\n",
       "      <td>2</td>\n",
       "      <td>4</td>\n",
       "      <td>11.760000</td>\n",
       "      <td>37.560001</td>\n",
       "      <td>75</td>\n",
       "      <td>45</td>\n",
       "      <td>66</td>\n",
       "      <td>1</td>\n",
       "      <td>19769</td>\n",
       "      <td>...</td>\n",
       "      <td>25</td>\n",
       "      <td>39.750000</td>\n",
       "      <td>3</td>\n",
       "      <td>10054</td>\n",
       "      <td>2018</td>\n",
       "      <td>1</td>\n",
       "      <td>2</td>\n",
       "      <td>13</td>\n",
       "      <td>0</td>\n",
       "      <td>0</td>\n",
       "    </tr>\n",
       "    <tr>\n",
       "      <th>...</th>\n",
       "      <td>...</td>\n",
       "      <td>...</td>\n",
       "      <td>...</td>\n",
       "      <td>...</td>\n",
       "      <td>...</td>\n",
       "      <td>...</td>\n",
       "      <td>...</td>\n",
       "      <td>...</td>\n",
       "      <td>...</td>\n",
       "      <td>...</td>\n",
       "      <td>...</td>\n",
       "      <td>...</td>\n",
       "      <td>...</td>\n",
       "      <td>...</td>\n",
       "      <td>...</td>\n",
       "      <td>...</td>\n",
       "      <td>...</td>\n",
       "      <td>...</td>\n",
       "      <td>...</td>\n",
       "      <td>...</td>\n",
       "      <td>...</td>\n",
       "    </tr>\n",
       "    <tr>\n",
       "      <th>22603</th>\n",
       "      <td>1</td>\n",
       "      <td>5</td>\n",
       "      <td>4</td>\n",
       "      <td>34.849998</td>\n",
       "      <td>99.580002</td>\n",
       "      <td>17</td>\n",
       "      <td>12</td>\n",
       "      <td>66</td>\n",
       "      <td>1</td>\n",
       "      <td>4792</td>\n",
       "      <td>...</td>\n",
       "      <td>71</td>\n",
       "      <td>59.990002</td>\n",
       "      <td>3</td>\n",
       "      <td>3574</td>\n",
       "      <td>2016</td>\n",
       "      <td>8</td>\n",
       "      <td>5</td>\n",
       "      <td>7</td>\n",
       "      <td>0</td>\n",
       "      <td>1</td>\n",
       "    </tr>\n",
       "    <tr>\n",
       "      <th>152893</th>\n",
       "      <td>3</td>\n",
       "      <td>2</td>\n",
       "      <td>1</td>\n",
       "      <td>135.190002</td>\n",
       "      <td>399.980011</td>\n",
       "      <td>45</td>\n",
       "      <td>18</td>\n",
       "      <td>271</td>\n",
       "      <td>0</td>\n",
       "      <td>4055</td>\n",
       "      <td>...</td>\n",
       "      <td>24</td>\n",
       "      <td>399.980011</td>\n",
       "      <td>0</td>\n",
       "      <td>7188</td>\n",
       "      <td>2016</td>\n",
       "      <td>4</td>\n",
       "      <td>0</td>\n",
       "      <td>8</td>\n",
       "      <td>0</td>\n",
       "      <td>1</td>\n",
       "    </tr>\n",
       "    <tr>\n",
       "      <th>172935</th>\n",
       "      <td>0</td>\n",
       "      <td>2</td>\n",
       "      <td>2</td>\n",
       "      <td>-39.320000</td>\n",
       "      <td>347.980011</td>\n",
       "      <td>45</td>\n",
       "      <td>18</td>\n",
       "      <td>66</td>\n",
       "      <td>1</td>\n",
       "      <td>148</td>\n",
       "      <td>...</td>\n",
       "      <td>24</td>\n",
       "      <td>399.980011</td>\n",
       "      <td>2</td>\n",
       "      <td>12636</td>\n",
       "      <td>2015</td>\n",
       "      <td>8</td>\n",
       "      <td>5</td>\n",
       "      <td>20</td>\n",
       "      <td>0</td>\n",
       "      <td>0</td>\n",
       "    </tr>\n",
       "    <tr>\n",
       "      <th>79244</th>\n",
       "      <td>1</td>\n",
       "      <td>2</td>\n",
       "      <td>1</td>\n",
       "      <td>40.000000</td>\n",
       "      <td>159.990005</td>\n",
       "      <td>48</td>\n",
       "      <td>46</td>\n",
       "      <td>66</td>\n",
       "      <td>1</td>\n",
       "      <td>8580</td>\n",
       "      <td>...</td>\n",
       "      <td>70</td>\n",
       "      <td>199.990005</td>\n",
       "      <td>0</td>\n",
       "      <td>7085</td>\n",
       "      <td>2016</td>\n",
       "      <td>5</td>\n",
       "      <td>4</td>\n",
       "      <td>17</td>\n",
       "      <td>0</td>\n",
       "      <td>1</td>\n",
       "    </tr>\n",
       "    <tr>\n",
       "      <th>62015</th>\n",
       "      <td>1</td>\n",
       "      <td>2</td>\n",
       "      <td>4</td>\n",
       "      <td>50.959999</td>\n",
       "      <td>195.990005</td>\n",
       "      <td>48</td>\n",
       "      <td>46</td>\n",
       "      <td>261</td>\n",
       "      <td>0</td>\n",
       "      <td>6574</td>\n",
       "      <td>...</td>\n",
       "      <td>70</td>\n",
       "      <td>199.990005</td>\n",
       "      <td>3</td>\n",
       "      <td>9384</td>\n",
       "      <td>2015</td>\n",
       "      <td>4</td>\n",
       "      <td>0</td>\n",
       "      <td>15</td>\n",
       "      <td>0</td>\n",
       "      <td>0</td>\n",
       "    </tr>\n",
       "  </tbody>\n",
       "</table>\n",
       "<p>18052 rows × 44 columns</p>\n",
       "</div>"
      ],
      "text/plain": [
       "        Type  Days for shipping (real)  Days for shipment (scheduled)  \\\n",
       "101369     3                         2                              4   \n",
       "3026       2                         5                              4   \n",
       "57549      1                         5                              4   \n",
       "127144     2                         6                              4   \n",
       "160375     3                         2                              4   \n",
       "...      ...                       ...                            ...   \n",
       "22603      1                         5                              4   \n",
       "152893     3                         2                              1   \n",
       "172935     0                         2                              2   \n",
       "79244      1                         2                              1   \n",
       "62015      1                         2                              4   \n",
       "\n",
       "        Benefit per order  Sales per customer  Category Id  Category Name  \\\n",
       "101369          71.849998          197.919998           46             30   \n",
       "3026            57.529999          164.380005           67             16   \n",
       "57549           22.680000          226.759995           17             12   \n",
       "127144          -3.020000          103.989998           18             34   \n",
       "160375          11.760000           37.560001           75             45   \n",
       "...                   ...                 ...          ...            ...   \n",
       "22603           34.849998           99.580002           17             12   \n",
       "152893         135.190002          399.980011           45             18   \n",
       "172935         -39.320000          347.980011           45             18   \n",
       "79244           40.000000          159.990005           48             46   \n",
       "62015           50.959999          195.990005           48             46   \n",
       "\n",
       "        Customer City  Customer Country  Customer Id  ...  Product Name  \\\n",
       "101369            529                 0         6862  ...            67   \n",
       "3026               66                 1        15052  ...            17   \n",
       "57549              66                 1         7391  ...            71   \n",
       "127144             66                 1         2588  ...            56   \n",
       "160375             66                 1        19769  ...            25   \n",
       "...               ...               ...          ...  ...           ...   \n",
       "22603              66                 1         4792  ...            71   \n",
       "152893            271                 0         4055  ...            24   \n",
       "172935             66                 1          148  ...            24   \n",
       "79244              66                 1         8580  ...            70   \n",
       "62015             261                 0         6574  ...            70   \n",
       "\n",
       "        Product Price  Shipping Mode  Cust_Full_Name  order_yr  order_month  \\\n",
       "101369      49.980000              3            9418      2016            4   \n",
       "3026       164.380005              3            7715      2017           11   \n",
       "57549       59.990002              3            8910      2016           10   \n",
       "127144     129.990005              3            9384      2015            2   \n",
       "160375      39.750000              3           10054      2018            1   \n",
       "...               ...            ...             ...       ...          ...   \n",
       "22603       59.990002              3            3574      2016            8   \n",
       "152893     399.980011              0            7188      2016            4   \n",
       "172935     399.980011              2           12636      2015            8   \n",
       "79244      199.990005              0            7085      2016            5   \n",
       "62015      199.990005              3            9384      2015            4   \n",
       "\n",
       "        order_day  order_hour  fraud  late_delivery  \n",
       "101369          4          11      0              0  \n",
       "3026            3          16      0              1  \n",
       "57549           2           2      0              1  \n",
       "127144          5           0      0              1  \n",
       "160375          2          13      0              0  \n",
       "...           ...         ...    ...            ...  \n",
       "22603           5           7      0              1  \n",
       "152893          0           8      0              1  \n",
       "172935          5          20      0              0  \n",
       "79244           4          17      0              1  \n",
       "62015           0          15      0              0  \n",
       "\n",
       "[18052 rows x 44 columns]"
      ]
     },
     "execution_count": 33,
     "metadata": {},
     "output_type": "execute_result"
    }
   ],
   "source": [
    "## Selecting 10% of the dataset for validation\n",
    "\n",
    "fraction_of_rows = train_df.sample(frac=0.1, random_state = 1)\n",
    "fraction_of_rows"
   ]
  },
  {
   "cell_type": "code",
   "execution_count": 34,
   "id": "81150d5d",
   "metadata": {},
   "outputs": [
    {
     "data": {
      "text/plain": [
       "[101369,\n",
       " 3026,\n",
       " 57549,\n",
       " 127144,\n",
       " 160375,\n",
       " 21822,\n",
       " 87233,\n",
       " 12914,\n",
       " 51333,\n",
       " 18605,\n",
       " 115091,\n",
       " 125669,\n",
       " 22070,\n",
       " 11734,\n",
       " 58228,\n",
       " 138444,\n",
       " 85450,\n",
       " 73875,\n",
       " 61313,\n",
       " 47730,\n",
       " 149530,\n",
       " 132499,\n",
       " 48403,\n",
       " 83521,\n",
       " 156055,\n",
       " 90164,\n",
       " 82899,\n",
       " 72305,\n",
       " 17851,\n",
       " 108983,\n",
       " 100037,\n",
       " 102209,\n",
       " 29548,\n",
       " 19874,\n",
       " 154032,\n",
       " 51027,\n",
       " 155354,\n",
       " 16041,\n",
       " 170095,\n",
       " 6833,\n",
       " 10017,\n",
       " 79882,\n",
       " 5546,\n",
       " 77913,\n",
       " 178418,\n",
       " 151798,\n",
       " 130796,\n",
       " 82481,\n",
       " 105142,\n",
       " 128126,\n",
       " 137384,\n",
       " 75556,\n",
       " 138450,\n",
       " 160802,\n",
       " 130777,\n",
       " 73925,\n",
       " 42290,\n",
       " 63988,\n",
       " 89053,\n",
       " 93300,\n",
       " 172089,\n",
       " 18939,\n",
       " 59310,\n",
       " 10681,\n",
       " 59937,\n",
       " 2498,\n",
       " 174639,\n",
       " 128056,\n",
       " 26597,\n",
       " 175972,\n",
       " 17466,\n",
       " 107272,\n",
       " 94543,\n",
       " 42112,\n",
       " 160282,\n",
       " 165595,\n",
       " 50653,\n",
       " 12994,\n",
       " 60858,\n",
       " 15458,\n",
       " 139747,\n",
       " 40511,\n",
       " 84754,\n",
       " 81681,\n",
       " 69153,\n",
       " 42067,\n",
       " 84171,\n",
       " 64924,\n",
       " 115560,\n",
       " 173574,\n",
       " 133262,\n",
       " 26419,\n",
       " 165598,\n",
       " 173499,\n",
       " 79388,\n",
       " 123411,\n",
       " 47458,\n",
       " 128503,\n",
       " 177848,\n",
       " 129002,\n",
       " 115929,\n",
       " 177510,\n",
       " 72672,\n",
       " 89007,\n",
       " 136163,\n",
       " 158069,\n",
       " 15232,\n",
       " 161432,\n",
       " 32315,\n",
       " 49397,\n",
       " 38558,\n",
       " 80601,\n",
       " 20518,\n",
       " 162135,\n",
       " 26052,\n",
       " 131531,\n",
       " 91792,\n",
       " 158439,\n",
       " 84594,\n",
       " 20296,\n",
       " 33854,\n",
       " 109995,\n",
       " 39690,\n",
       " 136639,\n",
       " 77670,\n",
       " 21181,\n",
       " 103360,\n",
       " 102290,\n",
       " 161839,\n",
       " 13909,\n",
       " 142651,\n",
       " 86409,\n",
       " 127786,\n",
       " 51385,\n",
       " 16503,\n",
       " 83947,\n",
       " 42002,\n",
       " 62924,\n",
       " 75249,\n",
       " 116892,\n",
       " 113370,\n",
       " 9832,\n",
       " 90801,\n",
       " 51692,\n",
       " 35123,\n",
       " 13456,\n",
       " 119157,\n",
       " 137066,\n",
       " 172749,\n",
       " 93292,\n",
       " 140860,\n",
       " 17621,\n",
       " 76026,\n",
       " 107593,\n",
       " 65234,\n",
       " 52879,\n",
       " 91892,\n",
       " 141086,\n",
       " 105338,\n",
       " 2888,\n",
       " 139956,\n",
       " 168574,\n",
       " 106006,\n",
       " 150170,\n",
       " 133384,\n",
       " 21152,\n",
       " 108269,\n",
       " 83066,\n",
       " 133961,\n",
       " 16371,\n",
       " 145301,\n",
       " 166239,\n",
       " 168351,\n",
       " 101808,\n",
       " 89899,\n",
       " 51704,\n",
       " 136681,\n",
       " 95839,\n",
       " 95872,\n",
       " 120381,\n",
       " 92620,\n",
       " 151697,\n",
       " 161068,\n",
       " 21112,\n",
       " 39179,\n",
       " 44321,\n",
       " 49580,\n",
       " 83743,\n",
       " 85933,\n",
       " 62505,\n",
       " 75949,\n",
       " 112628,\n",
       " 5790,\n",
       " 100735,\n",
       " 62925,\n",
       " 111886,\n",
       " 105549,\n",
       " 142503,\n",
       " 169999,\n",
       " 33679,\n",
       " 92391,\n",
       " 160124,\n",
       " 138292,\n",
       " 177924,\n",
       " 143516,\n",
       " 129536,\n",
       " 8746,\n",
       " 17616,\n",
       " 90516,\n",
       " 45641,\n",
       " 30752,\n",
       " 135184,\n",
       " 1114,\n",
       " 162092,\n",
       " 15832,\n",
       " 78330,\n",
       " 123558,\n",
       " 107050,\n",
       " 53641,\n",
       " 112331,\n",
       " 129149,\n",
       " 115116,\n",
       " 68908,\n",
       " 62251,\n",
       " 130286,\n",
       " 56505,\n",
       " 113030,\n",
       " 67994,\n",
       " 35232,\n",
       " 112498,\n",
       " 90545,\n",
       " 44106,\n",
       " 120628,\n",
       " 156072,\n",
       " 77078,\n",
       " 31977,\n",
       " 70041,\n",
       " 21183,\n",
       " 116049,\n",
       " 16251,\n",
       " 135150,\n",
       " 2368,\n",
       " 58581,\n",
       " 44019,\n",
       " 76188,\n",
       " 148600,\n",
       " 76856,\n",
       " 83238,\n",
       " 84293,\n",
       " 156374,\n",
       " 25028,\n",
       " 6965,\n",
       " 23573,\n",
       " 92239,\n",
       " 118730,\n",
       " 56265,\n",
       " 172752,\n",
       " 8244,\n",
       " 71545,\n",
       " 149271,\n",
       " 14046,\n",
       " 68727,\n",
       " 151184,\n",
       " 45970,\n",
       " 63918,\n",
       " 127477,\n",
       " 124228,\n",
       " 135804,\n",
       " 16375,\n",
       " 161064,\n",
       " 77599,\n",
       " 3282,\n",
       " 135946,\n",
       " 107652,\n",
       " 25525,\n",
       " 83193,\n",
       " 129502,\n",
       " 115390,\n",
       " 10305,\n",
       " 30199,\n",
       " 20053,\n",
       " 49774,\n",
       " 61912,\n",
       " 73366,\n",
       " 41816,\n",
       " 24283,\n",
       " 101690,\n",
       " 172426,\n",
       " 134158,\n",
       " 23944,\n",
       " 126654,\n",
       " 93121,\n",
       " 77863,\n",
       " 126643,\n",
       " 72596,\n",
       " 30734,\n",
       " 40956,\n",
       " 144131,\n",
       " 173649,\n",
       " 75842,\n",
       " 106469,\n",
       " 143249,\n",
       " 86949,\n",
       " 50778,\n",
       " 180426,\n",
       " 153888,\n",
       " 118974,\n",
       " 32951,\n",
       " 148736,\n",
       " 32248,\n",
       " 60337,\n",
       " 2207,\n",
       " 153191,\n",
       " 135941,\n",
       " 112506,\n",
       " 56737,\n",
       " 38003,\n",
       " 539,\n",
       " 48435,\n",
       " 81625,\n",
       " 78647,\n",
       " 36924,\n",
       " 172784,\n",
       " 10125,\n",
       " 124620,\n",
       " 84223,\n",
       " 162935,\n",
       " 143054,\n",
       " 180337,\n",
       " 62396,\n",
       " 104747,\n",
       " 120704,\n",
       " 79933,\n",
       " 39866,\n",
       " 7591,\n",
       " 92146,\n",
       " 14139,\n",
       " 128160,\n",
       " 32268,\n",
       " 166472,\n",
       " 19724,\n",
       " 124829,\n",
       " 78324,\n",
       " 87621,\n",
       " 61012,\n",
       " 146893,\n",
       " 86119,\n",
       " 35984,\n",
       " 124912,\n",
       " 29351,\n",
       " 1792,\n",
       " 104333,\n",
       " 36952,\n",
       " 124182,\n",
       " 178408,\n",
       " 155320,\n",
       " 47128,\n",
       " 148455,\n",
       " 101946,\n",
       " 102002,\n",
       " 54858,\n",
       " 147538,\n",
       " 26047,\n",
       " 113586,\n",
       " 63005,\n",
       " 13375,\n",
       " 166746,\n",
       " 15090,\n",
       " 115145,\n",
       " 43398,\n",
       " 105820,\n",
       " 122517,\n",
       " 83152,\n",
       " 99531,\n",
       " 596,\n",
       " 168514,\n",
       " 156949,\n",
       " 130933,\n",
       " 60493,\n",
       " 79932,\n",
       " 49881,\n",
       " 137865,\n",
       " 53161,\n",
       " 87498,\n",
       " 22292,\n",
       " 95421,\n",
       " 54427,\n",
       " 120973,\n",
       " 137559,\n",
       " 98879,\n",
       " 81757,\n",
       " 32090,\n",
       " 4775,\n",
       " 128751,\n",
       " 111731,\n",
       " 164592,\n",
       " 80035,\n",
       " 144009,\n",
       " 40945,\n",
       " 50281,\n",
       " 15517,\n",
       " 102053,\n",
       " 8445,\n",
       " 31640,\n",
       " 123447,\n",
       " 111678,\n",
       " 99577,\n",
       " 67378,\n",
       " 88572,\n",
       " 78022,\n",
       " 172536,\n",
       " 23885,\n",
       " 146319,\n",
       " 95203,\n",
       " 37479,\n",
       " 10024,\n",
       " 87255,\n",
       " 174027,\n",
       " 103414,\n",
       " 96667,\n",
       " 49296,\n",
       " 99770,\n",
       " 166208,\n",
       " 73509,\n",
       " 64759,\n",
       " 170643,\n",
       " 108990,\n",
       " 12114,\n",
       " 67286,\n",
       " 72323,\n",
       " 129392,\n",
       " 84054,\n",
       " 102269,\n",
       " 147789,\n",
       " 133336,\n",
       " 23722,\n",
       " 131997,\n",
       " 81618,\n",
       " 75176,\n",
       " 50445,\n",
       " 84327,\n",
       " 143873,\n",
       " 162185,\n",
       " 88199,\n",
       " 113268,\n",
       " 93398,\n",
       " 26763,\n",
       " 24766,\n",
       " 145487,\n",
       " 41945,\n",
       " 49352,\n",
       " 139123,\n",
       " 9444,\n",
       " 51121,\n",
       " 46706,\n",
       " 142650,\n",
       " 62124,\n",
       " 25636,\n",
       " 47553,\n",
       " 77015,\n",
       " 23648,\n",
       " 51803,\n",
       " 112591,\n",
       " 62742,\n",
       " 92652,\n",
       " 5949,\n",
       " 152406,\n",
       " 162738,\n",
       " 167893,\n",
       " 35178,\n",
       " 32398,\n",
       " 28977,\n",
       " 134374,\n",
       " 40152,\n",
       " 52476,\n",
       " 66395,\n",
       " 166435,\n",
       " 37650,\n",
       " 96958,\n",
       " 160529,\n",
       " 126551,\n",
       " 87155,\n",
       " 25482,\n",
       " 82104,\n",
       " 32563,\n",
       " 129320,\n",
       " 63714,\n",
       " 126185,\n",
       " 29456,\n",
       " 11773,\n",
       " 55982,\n",
       " 178826,\n",
       " 128313,\n",
       " 125455,\n",
       " 32974,\n",
       " 169423,\n",
       " 14282,\n",
       " 4855,\n",
       " 20862,\n",
       " 40491,\n",
       " 144772,\n",
       " 72428,\n",
       " 53293,\n",
       " 83273,\n",
       " 70782,\n",
       " 160735,\n",
       " 143779,\n",
       " 126182,\n",
       " 58660,\n",
       " 55872,\n",
       " 77621,\n",
       " 169575,\n",
       " 155170,\n",
       " 67565,\n",
       " 27939,\n",
       " 63559,\n",
       " 158837,\n",
       " 23960,\n",
       " 128586,\n",
       " 103980,\n",
       " 21039,\n",
       " 40726,\n",
       " 108181,\n",
       " 23487,\n",
       " 117219,\n",
       " 44724,\n",
       " 138857,\n",
       " 158174,\n",
       " 177268,\n",
       " 31545,\n",
       " 20928,\n",
       " 120695,\n",
       " 23203,\n",
       " 134217,\n",
       " 75951,\n",
       " 99688,\n",
       " 37326,\n",
       " 159933,\n",
       " 69868,\n",
       " 154411,\n",
       " 99279,\n",
       " 30606,\n",
       " 96035,\n",
       " 66217,\n",
       " 142631,\n",
       " 3886,\n",
       " 38154,\n",
       " 153769,\n",
       " 147795,\n",
       " 118412,\n",
       " 61668,\n",
       " 127763,\n",
       " 164459,\n",
       " 143963,\n",
       " 13275,\n",
       " 79691,\n",
       " 13841,\n",
       " 74583,\n",
       " 35219,\n",
       " 180294,\n",
       " 113997,\n",
       " 88062,\n",
       " 10345,\n",
       " 68099,\n",
       " 22085,\n",
       " 31665,\n",
       " 99525,\n",
       " 53557,\n",
       " 96831,\n",
       " 139832,\n",
       " 90920,\n",
       " 139130,\n",
       " 179244,\n",
       " 149597,\n",
       " 88527,\n",
       " 72915,\n",
       " 59375,\n",
       " 12872,\n",
       " 30817,\n",
       " 110520,\n",
       " 92042,\n",
       " 19269,\n",
       " 158591,\n",
       " 89867,\n",
       " 45394,\n",
       " 162343,\n",
       " 148917,\n",
       " 158534,\n",
       " 76344,\n",
       " 136801,\n",
       " 62990,\n",
       " 75024,\n",
       " 117507,\n",
       " 37915,\n",
       " 164443,\n",
       " 43255,\n",
       " 118668,\n",
       " 34385,\n",
       " 12897,\n",
       " 176065,\n",
       " 54843,\n",
       " 180297,\n",
       " 119805,\n",
       " 81950,\n",
       " 113903,\n",
       " 141933,\n",
       " 145580,\n",
       " 133102,\n",
       " 95530,\n",
       " 95585,\n",
       " 59661,\n",
       " 160481,\n",
       " 109778,\n",
       " 45287,\n",
       " 52263,\n",
       " 145701,\n",
       " 169224,\n",
       " 82581,\n",
       " 20809,\n",
       " 117720,\n",
       " 13504,\n",
       " 55642,\n",
       " 14426,\n",
       " 48659,\n",
       " 83165,\n",
       " 29182,\n",
       " 179628,\n",
       " 128435,\n",
       " 136009,\n",
       " 136442,\n",
       " 31182,\n",
       " 65038,\n",
       " 22947,\n",
       " 117111,\n",
       " 172180,\n",
       " 26179,\n",
       " 78544,\n",
       " 136562,\n",
       " 19307,\n",
       " 18963,\n",
       " 77906,\n",
       " 143271,\n",
       " 68778,\n",
       " 48777,\n",
       " 37669,\n",
       " 74848,\n",
       " 134601,\n",
       " 103807,\n",
       " 168405,\n",
       " 22500,\n",
       " 61376,\n",
       " 93605,\n",
       " 53993,\n",
       " 158585,\n",
       " 90393,\n",
       " 137468,\n",
       " 43570,\n",
       " 114790,\n",
       " 143200,\n",
       " 158403,\n",
       " 59980,\n",
       " 38885,\n",
       " 100016,\n",
       " 76483,\n",
       " 128267,\n",
       " 127166,\n",
       " 50555,\n",
       " 141518,\n",
       " 72188,\n",
       " 135293,\n",
       " 40344,\n",
       " 14937,\n",
       " 30459,\n",
       " 108554,\n",
       " 38311,\n",
       " 178535,\n",
       " 19369,\n",
       " 55907,\n",
       " 106558,\n",
       " 39791,\n",
       " 98573,\n",
       " 46628,\n",
       " 83048,\n",
       " 104111,\n",
       " 83358,\n",
       " 176653,\n",
       " 137262,\n",
       " 53538,\n",
       " 86139,\n",
       " 5498,\n",
       " 65857,\n",
       " 20684,\n",
       " 91215,\n",
       " 170490,\n",
       " 74504,\n",
       " 45737,\n",
       " 109008,\n",
       " 143065,\n",
       " 70259,\n",
       " 48263,\n",
       " 136031,\n",
       " 144465,\n",
       " 97094,\n",
       " 48958,\n",
       " 132861,\n",
       " 158519,\n",
       " 39780,\n",
       " 168430,\n",
       " 38177,\n",
       " 144575,\n",
       " 177647,\n",
       " 128081,\n",
       " 84858,\n",
       " 3489,\n",
       " 118919,\n",
       " 153804,\n",
       " 112885,\n",
       " 5857,\n",
       " 139362,\n",
       " 117905,\n",
       " 22143,\n",
       " 122526,\n",
       " 103890,\n",
       " 1694,\n",
       " 87461,\n",
       " 23167,\n",
       " 6217,\n",
       " 138210,\n",
       " 48521,\n",
       " 39678,\n",
       " 165723,\n",
       " 171109,\n",
       " 174157,\n",
       " 149412,\n",
       " 42608,\n",
       " 38081,\n",
       " 159137,\n",
       " 17170,\n",
       " 111425,\n",
       " 103904,\n",
       " 7518,\n",
       " 554,\n",
       " 54536,\n",
       " 16361,\n",
       " 64289,\n",
       " 175569,\n",
       " 151786,\n",
       " 94583,\n",
       " 65816,\n",
       " 43253,\n",
       " 63589,\n",
       " 172806,\n",
       " 31098,\n",
       " 174728,\n",
       " 133080,\n",
       " 149026,\n",
       " 94090,\n",
       " 107599,\n",
       " 18983,\n",
       " 17777,\n",
       " 143989,\n",
       " 63470,\n",
       " 16328,\n",
       " 171984,\n",
       " 112880,\n",
       " 170692,\n",
       " 76932,\n",
       " 64920,\n",
       " 112453,\n",
       " 77736,\n",
       " 45821,\n",
       " 93963,\n",
       " 65403,\n",
       " 81541,\n",
       " 109377,\n",
       " 121644,\n",
       " 64548,\n",
       " 68817,\n",
       " 81440,\n",
       " 95122,\n",
       " 142259,\n",
       " 157403,\n",
       " 51417,\n",
       " 103623,\n",
       " 19099,\n",
       " 79689,\n",
       " 159904,\n",
       " 71881,\n",
       " 25439,\n",
       " 171321,\n",
       " 111164,\n",
       " 16813,\n",
       " 69442,\n",
       " 64989,\n",
       " 74428,\n",
       " 48410,\n",
       " 124125,\n",
       " 67395,\n",
       " 155860,\n",
       " 89883,\n",
       " 97545,\n",
       " 10300,\n",
       " 136951,\n",
       " 166554,\n",
       " 95080,\n",
       " 160926,\n",
       " 10996,\n",
       " 136366,\n",
       " 176838,\n",
       " 43609,\n",
       " 112476,\n",
       " 168293,\n",
       " 160886,\n",
       " 87048,\n",
       " 114421,\n",
       " 134059,\n",
       " 27792,\n",
       " 98665,\n",
       " 166170,\n",
       " 94402,\n",
       " 156273,\n",
       " 142298,\n",
       " 71727,\n",
       " 171910,\n",
       " 127704,\n",
       " 138075,\n",
       " 177030,\n",
       " 164210,\n",
       " 91467,\n",
       " 34361,\n",
       " 162676,\n",
       " 96855,\n",
       " 71980,\n",
       " 148328,\n",
       " 16197,\n",
       " 10598,\n",
       " 48420,\n",
       " 147342,\n",
       " 38401,\n",
       " 24894,\n",
       " 18385,\n",
       " 99359,\n",
       " 5134,\n",
       " 168178,\n",
       " 90152,\n",
       " 25398,\n",
       " 88099,\n",
       " 82599,\n",
       " 91408,\n",
       " 147912,\n",
       " 66154,\n",
       " 177026,\n",
       " 110422,\n",
       " 112208,\n",
       " 133468,\n",
       " 6512,\n",
       " 165173,\n",
       " 9936,\n",
       " 26022,\n",
       " 41423,\n",
       " 46039,\n",
       " 41589,\n",
       " 88804,\n",
       " 105028,\n",
       " 118801,\n",
       " 86245,\n",
       " 118976,\n",
       " 147779,\n",
       " 22469,\n",
       " 87923,\n",
       " 9316,\n",
       " 138056,\n",
       " 144386,\n",
       " 171590,\n",
       " 37145,\n",
       " 173559,\n",
       " 129687,\n",
       " 47250,\n",
       " 133021,\n",
       " 154741,\n",
       " 110554,\n",
       " 40815,\n",
       " 70866,\n",
       " 148737,\n",
       " 70268,\n",
       " 104475,\n",
       " 119181,\n",
       " 94,\n",
       " 82126,\n",
       " 48325,\n",
       " 58164,\n",
       " 164489,\n",
       " 80444,\n",
       " 9781,\n",
       " 167647,\n",
       " 39304,\n",
       " 3832,\n",
       " 130181,\n",
       " 17585,\n",
       " 48831,\n",
       " 160275,\n",
       " 27575,\n",
       " 171480,\n",
       " 58092,\n",
       " 91085,\n",
       " 101825,\n",
       " 137484,\n",
       " 17732,\n",
       " 178292,\n",
       " 176238,\n",
       " 134850,\n",
       " 66097,\n",
       " 21531,\n",
       " 5318,\n",
       " 46755,\n",
       " 141404,\n",
       " 174397,\n",
       " 124905,\n",
       " 87511,\n",
       " 134389,\n",
       " 170,\n",
       " 114092,\n",
       " 56279,\n",
       " 71356,\n",
       " 16330,\n",
       " 117653,\n",
       " 76110,\n",
       " 81038,\n",
       " 37263,\n",
       " 150803,\n",
       " 27700,\n",
       " 32383,\n",
       " 17583,\n",
       " 162932,\n",
       " 14093,\n",
       " 12966,\n",
       " 15866,\n",
       " 123510,\n",
       " 70276,\n",
       " 99812,\n",
       " 23217,\n",
       " 3811,\n",
       " 6540,\n",
       " 159687,\n",
       " 36618,\n",
       " 38555,\n",
       " 56814,\n",
       " 160852,\n",
       " 11160,\n",
       " 50987,\n",
       " 12808,\n",
       " 79728,\n",
       " 4062,\n",
       " 34366,\n",
       " 60781,\n",
       " 3438,\n",
       " 155243,\n",
       " 158507,\n",
       " 151294,\n",
       " 171152,\n",
       " 61700,\n",
       " 56603,\n",
       " 6754,\n",
       " 14467,\n",
       " 96489,\n",
       " 133107,\n",
       " 55447,\n",
       " 91140,\n",
       " 40841,\n",
       " 17984,\n",
       " 53801,\n",
       " 28791,\n",
       " 135665,\n",
       " 90599,\n",
       " 13038,\n",
       " 151606,\n",
       " 100095,\n",
       " 117181,\n",
       " 51559,\n",
       " 77405,\n",
       " 80988,\n",
       " 149735,\n",
       " 140622,\n",
       " 121634,\n",
       " 47039,\n",
       " 39614,\n",
       " 169276,\n",
       " 112634,\n",
       " 81241,\n",
       " 112709,\n",
       " 104527,\n",
       " 178273,\n",
       " 11814,\n",
       " 29354,\n",
       " 98764,\n",
       " 32885,\n",
       " 31061,\n",
       " 176283,\n",
       " 66121,\n",
       " 120630,\n",
       " ...]"
      ]
     },
     "execution_count": 34,
     "metadata": {},
     "output_type": "execute_result"
    }
   ],
   "source": [
    "## Creating a list of index of the samples to be dropped from the main dataset\n",
    "\n",
    "index = fraction_of_rows.index.values.tolist()\n",
    "index"
   ]
  },
  {
   "cell_type": "code",
   "execution_count": 35,
   "id": "1a4de220",
   "metadata": {},
   "outputs": [],
   "source": [
    "## Dropping rows with the index numbers\n",
    "\n",
    "train_df.drop(index = index, inplace = True)"
   ]
  },
  {
   "cell_type": "code",
   "execution_count": 36,
   "id": "d583c96e",
   "metadata": {},
   "outputs": [
    {
     "data": {
      "text/plain": [
       "(162467, 44)"
      ]
     },
     "execution_count": 36,
     "metadata": {},
     "output_type": "execute_result"
    }
   ],
   "source": [
    "train_df.shape"
   ]
  },
  {
   "cell_type": "code",
   "execution_count": 37,
   "id": "1bfd2a68",
   "metadata": {},
   "outputs": [],
   "source": [
    "## Resetting index for the validation dataset\n",
    "\n",
    "fraction_of_rows.reset_index(drop = True, inplace=True)"
   ]
  },
  {
   "cell_type": "code",
   "execution_count": 38,
   "id": "5a22996b",
   "metadata": {},
   "outputs": [
    {
     "data": {
      "text/plain": [
       "(18052, 44)"
      ]
     },
     "execution_count": 38,
     "metadata": {},
     "output_type": "execute_result"
    }
   ],
   "source": [
    "fraction_of_rows.shape"
   ]
  },
  {
   "cell_type": "code",
   "execution_count": 39,
   "id": "fb9cd471",
   "metadata": {},
   "outputs": [],
   "source": [
    "## Creating X and y for dependant and independent variables\n",
    "\n",
    "X = train_df.loc[:,train_df.columns != 'fraud']\n",
    "y = train_df['fraud']"
   ]
  },
  {
   "cell_type": "code",
   "execution_count": 40,
   "id": "4979dc77",
   "metadata": {},
   "outputs": [],
   "source": [
    "## Splitting the dataset into training and test data\n",
    "\n",
    "X_train, X_test, y_train, y_test = train_test_split(X, y, test_size = 0.30, random_state=42)"
   ]
  },
  {
   "cell_type": "code",
   "execution_count": 41,
   "id": "dab7294a",
   "metadata": {},
   "outputs": [],
   "source": [
    "## Creating dataframe for X and y validation dataset\n",
    "\n",
    "X_valid = fraction_of_rows.loc[:,fraction_of_rows.columns != 'fraud']\n",
    "y_valid = fraction_of_rows['fraud']"
   ]
  },
  {
   "cell_type": "code",
   "execution_count": 42,
   "id": "56436168",
   "metadata": {},
   "outputs": [
    {
     "data": {
      "text/plain": [
       "(113726, 43)"
      ]
     },
     "execution_count": 42,
     "metadata": {},
     "output_type": "execute_result"
    }
   ],
   "source": [
    "X_train.shape"
   ]
  },
  {
   "cell_type": "code",
   "execution_count": 43,
   "id": "14d2d257",
   "metadata": {},
   "outputs": [],
   "source": [
    "# Defining the classes \n",
    "classes = sorted(y_train.unique())"
   ]
  },
  {
   "cell_type": "markdown",
   "id": "f31754b3",
   "metadata": {},
   "source": [
    "### Standardizing the data"
   ]
  },
  {
   "cell_type": "code",
   "execution_count": 44,
   "id": "1b98a7d4",
   "metadata": {},
   "outputs": [],
   "source": [
    "## Standardizing the X dataset\n",
    "\n",
    "ss = StandardScaler()\n",
    "X_train=ss.fit_transform(X_train)\n",
    "X_test=ss.transform(X_test)\n",
    "X_valid=ss.transform(X_valid)"
   ]
  },
  {
   "cell_type": "markdown",
   "id": "2cf6e5c3",
   "metadata": {},
   "source": [
    "## Creating MLPClassifier Model"
   ]
  },
  {
   "cell_type": "code",
   "execution_count": 45,
   "id": "3fd9475d",
   "metadata": {},
   "outputs": [],
   "source": [
    "clf = MLPClassifier(hidden_layer_sizes=(6), activation='logistic', solver='lbfgs',random_state=1)"
   ]
  },
  {
   "cell_type": "code",
   "execution_count": 46,
   "id": "37445d16",
   "metadata": {},
   "outputs": [
    {
     "data": {
      "text/html": [
       "<style>#sk-container-id-1 {color: black;background-color: white;}#sk-container-id-1 pre{padding: 0;}#sk-container-id-1 div.sk-toggleable {background-color: white;}#sk-container-id-1 label.sk-toggleable__label {cursor: pointer;display: block;width: 100%;margin-bottom: 0;padding: 0.3em;box-sizing: border-box;text-align: center;}#sk-container-id-1 label.sk-toggleable__label-arrow:before {content: \"▸\";float: left;margin-right: 0.25em;color: #696969;}#sk-container-id-1 label.sk-toggleable__label-arrow:hover:before {color: black;}#sk-container-id-1 div.sk-estimator:hover label.sk-toggleable__label-arrow:before {color: black;}#sk-container-id-1 div.sk-toggleable__content {max-height: 0;max-width: 0;overflow: hidden;text-align: left;background-color: #f0f8ff;}#sk-container-id-1 div.sk-toggleable__content pre {margin: 0.2em;color: black;border-radius: 0.25em;background-color: #f0f8ff;}#sk-container-id-1 input.sk-toggleable__control:checked~div.sk-toggleable__content {max-height: 200px;max-width: 100%;overflow: auto;}#sk-container-id-1 input.sk-toggleable__control:checked~label.sk-toggleable__label-arrow:before {content: \"▾\";}#sk-container-id-1 div.sk-estimator input.sk-toggleable__control:checked~label.sk-toggleable__label {background-color: #d4ebff;}#sk-container-id-1 div.sk-label input.sk-toggleable__control:checked~label.sk-toggleable__label {background-color: #d4ebff;}#sk-container-id-1 input.sk-hidden--visually {border: 0;clip: rect(1px 1px 1px 1px);clip: rect(1px, 1px, 1px, 1px);height: 1px;margin: -1px;overflow: hidden;padding: 0;position: absolute;width: 1px;}#sk-container-id-1 div.sk-estimator {font-family: monospace;background-color: #f0f8ff;border: 1px dotted black;border-radius: 0.25em;box-sizing: border-box;margin-bottom: 0.5em;}#sk-container-id-1 div.sk-estimator:hover {background-color: #d4ebff;}#sk-container-id-1 div.sk-parallel-item::after {content: \"\";width: 100%;border-bottom: 1px solid gray;flex-grow: 1;}#sk-container-id-1 div.sk-label:hover label.sk-toggleable__label {background-color: #d4ebff;}#sk-container-id-1 div.sk-serial::before {content: \"\";position: absolute;border-left: 1px solid gray;box-sizing: border-box;top: 0;bottom: 0;left: 50%;z-index: 0;}#sk-container-id-1 div.sk-serial {display: flex;flex-direction: column;align-items: center;background-color: white;padding-right: 0.2em;padding-left: 0.2em;position: relative;}#sk-container-id-1 div.sk-item {position: relative;z-index: 1;}#sk-container-id-1 div.sk-parallel {display: flex;align-items: stretch;justify-content: center;background-color: white;position: relative;}#sk-container-id-1 div.sk-item::before, #sk-container-id-1 div.sk-parallel-item::before {content: \"\";position: absolute;border-left: 1px solid gray;box-sizing: border-box;top: 0;bottom: 0;left: 50%;z-index: -1;}#sk-container-id-1 div.sk-parallel-item {display: flex;flex-direction: column;z-index: 1;position: relative;background-color: white;}#sk-container-id-1 div.sk-parallel-item:first-child::after {align-self: flex-end;width: 50%;}#sk-container-id-1 div.sk-parallel-item:last-child::after {align-self: flex-start;width: 50%;}#sk-container-id-1 div.sk-parallel-item:only-child::after {width: 0;}#sk-container-id-1 div.sk-dashed-wrapped {border: 1px dashed gray;margin: 0 0.4em 0.5em 0.4em;box-sizing: border-box;padding-bottom: 0.4em;background-color: white;}#sk-container-id-1 div.sk-label label {font-family: monospace;font-weight: bold;display: inline-block;line-height: 1.2em;}#sk-container-id-1 div.sk-label-container {text-align: center;}#sk-container-id-1 div.sk-container {/* jupyter's `normalize.less` sets `[hidden] { display: none; }` but bootstrap.min.css set `[hidden] { display: none !important; }` so we also need the `!important` here to be able to override the default hidden behavior on the sphinx rendered scikit-learn.org. See: https://github.com/scikit-learn/scikit-learn/issues/21755 */display: inline-block !important;position: relative;}#sk-container-id-1 div.sk-text-repr-fallback {display: none;}</style><div id=\"sk-container-id-1\" class=\"sk-top-container\"><div class=\"sk-text-repr-fallback\"><pre>MLPClassifier(activation=&#x27;logistic&#x27;, hidden_layer_sizes=6, random_state=1,\n",
       "              solver=&#x27;lbfgs&#x27;)</pre><b>In a Jupyter environment, please rerun this cell to show the HTML representation or trust the notebook. <br />On GitHub, the HTML representation is unable to render, please try loading this page with nbviewer.org.</b></div><div class=\"sk-container\" hidden><div class=\"sk-item\"><div class=\"sk-estimator sk-toggleable\"><input class=\"sk-toggleable__control sk-hidden--visually\" id=\"sk-estimator-id-1\" type=\"checkbox\" checked><label for=\"sk-estimator-id-1\" class=\"sk-toggleable__label sk-toggleable__label-arrow\">MLPClassifier</label><div class=\"sk-toggleable__content\"><pre>MLPClassifier(activation=&#x27;logistic&#x27;, hidden_layer_sizes=6, random_state=1,\n",
       "              solver=&#x27;lbfgs&#x27;)</pre></div></div></div></div></div>"
      ],
      "text/plain": [
       "MLPClassifier(activation='logistic', hidden_layer_sizes=6, random_state=1,\n",
       "              solver='lbfgs')"
      ]
     },
     "execution_count": 46,
     "metadata": {},
     "output_type": "execute_result"
    }
   ],
   "source": [
    "\n",
    "\n",
    "\n",
    "\n",
    "## Fitting the data using MLPClassifier\n",
    "\n",
    "clf.fit(X_train, y_train)"
   ]
  },
  {
   "cell_type": "code",
   "execution_count": 47,
   "id": "0fb1fad2",
   "metadata": {},
   "outputs": [
    {
     "data": {
      "text/plain": [
       "array([0, 0, 0, ..., 0, 0, 0])"
      ]
     },
     "execution_count": 47,
     "metadata": {},
     "output_type": "execute_result"
    }
   ],
   "source": [
    "## Predicting the trained model\n",
    "\n",
    "clf.predict(X_test)"
   ]
  },
  {
   "cell_type": "code",
   "execution_count": 48,
   "id": "96a7e492",
   "metadata": {},
   "outputs": [
    {
     "name": "stdout",
     "output_type": "stream",
     "text": [
      "Confusion Matrix (Accuracy 0.9789)\n",
      "\n",
      "       Prediction\n",
      "Actual     0     1\n",
      "     0 47280   330\n",
      "     1   697   434\n"
     ]
    }
   ],
   "source": [
    "## Creating a Classification matrix for MLPClassifier\n",
    "\n",
    "classificationSummary(y_test, clf.predict(X_test), class_names=classes)"
   ]
  },
  {
   "cell_type": "code",
   "execution_count": null,
   "id": "f53abb20",
   "metadata": {},
   "outputs": [],
   "source": []
  },
  {
   "cell_type": "markdown",
   "id": "532eb526",
   "metadata": {},
   "source": [
    "## Creating a Custom Neural Network Model"
   ]
  },
  {
   "cell_type": "code",
   "execution_count": 49,
   "id": "23893174",
   "metadata": {},
   "outputs": [
    {
     "data": {
      "text/plain": [
       "(162467, 44)"
      ]
     },
     "execution_count": 49,
     "metadata": {},
     "output_type": "execute_result"
    }
   ],
   "source": [
    "train_df.shape"
   ]
  },
  {
   "cell_type": "code",
   "execution_count": 50,
   "id": "a17b704a",
   "metadata": {},
   "outputs": [
    {
     "name": "stderr",
     "output_type": "stream",
     "text": [
      "/Users/vishal.r001/anaconda3/lib/python3.11/site-packages/keras/src/layers/core/dense.py:86: UserWarning:\n",
      "\n",
      "Do not pass an `input_shape`/`input_dim` argument to a layer. When using Sequential models, prefer using an `Input(shape)` object as the first layer in the model instead.\n",
      "\n"
     ]
    },
    {
     "data": {
      "text/html": [
       "<pre style=\"white-space:pre;overflow-x:auto;line-height:normal;font-family:Menlo,'DejaVu Sans Mono',consolas,'Courier New',monospace\"><span style=\"font-weight: bold\">Model: \"sequential\"</span>\n",
       "</pre>\n"
      ],
      "text/plain": [
       "\u001b[1mModel: \"sequential\"\u001b[0m\n"
      ]
     },
     "metadata": {},
     "output_type": "display_data"
    },
    {
     "data": {
      "text/html": [
       "<pre style=\"white-space:pre;overflow-x:auto;line-height:normal;font-family:Menlo,'DejaVu Sans Mono',consolas,'Courier New',monospace\">┏━━━━━━━━━━━━━━━━━━━━━━━━━━━━━━━━━┳━━━━━━━━━━━━━━━━━━━━━━━━┳━━━━━━━━━━━━━━━┓\n",
       "┃<span style=\"font-weight: bold\"> Layer (type)                    </span>┃<span style=\"font-weight: bold\"> Output Shape           </span>┃<span style=\"font-weight: bold\">       Param # </span>┃\n",
       "┡━━━━━━━━━━━━━━━━━━━━━━━━━━━━━━━━━╇━━━━━━━━━━━━━━━━━━━━━━━━╇━━━━━━━━━━━━━━━┩\n",
       "│ dense (<span style=\"color: #0087ff; text-decoration-color: #0087ff\">Dense</span>)                   │ (<span style=\"color: #00d7ff; text-decoration-color: #00d7ff\">None</span>, <span style=\"color: #00af00; text-decoration-color: #00af00\">1024</span>)           │        <span style=\"color: #00af00; text-decoration-color: #00af00\">45,056</span> │\n",
       "├─────────────────────────────────┼────────────────────────┼───────────────┤\n",
       "│ dense_1 (<span style=\"color: #0087ff; text-decoration-color: #0087ff\">Dense</span>)                 │ (<span style=\"color: #00d7ff; text-decoration-color: #00d7ff\">None</span>, <span style=\"color: #00af00; text-decoration-color: #00af00\">512</span>)            │       <span style=\"color: #00af00; text-decoration-color: #00af00\">524,800</span> │\n",
       "├─────────────────────────────────┼────────────────────────┼───────────────┤\n",
       "│ dense_2 (<span style=\"color: #0087ff; text-decoration-color: #0087ff\">Dense</span>)                 │ (<span style=\"color: #00d7ff; text-decoration-color: #00d7ff\">None</span>, <span style=\"color: #00af00; text-decoration-color: #00af00\">256</span>)            │       <span style=\"color: #00af00; text-decoration-color: #00af00\">131,328</span> │\n",
       "├─────────────────────────────────┼────────────────────────┼───────────────┤\n",
       "│ dense_3 (<span style=\"color: #0087ff; text-decoration-color: #0087ff\">Dense</span>)                 │ (<span style=\"color: #00d7ff; text-decoration-color: #00d7ff\">None</span>, <span style=\"color: #00af00; text-decoration-color: #00af00\">128</span>)            │        <span style=\"color: #00af00; text-decoration-color: #00af00\">32,896</span> │\n",
       "├─────────────────────────────────┼────────────────────────┼───────────────┤\n",
       "│ dense_4 (<span style=\"color: #0087ff; text-decoration-color: #0087ff\">Dense</span>)                 │ (<span style=\"color: #00d7ff; text-decoration-color: #00d7ff\">None</span>, <span style=\"color: #00af00; text-decoration-color: #00af00\">64</span>)             │         <span style=\"color: #00af00; text-decoration-color: #00af00\">8,256</span> │\n",
       "├─────────────────────────────────┼────────────────────────┼───────────────┤\n",
       "│ dense_5 (<span style=\"color: #0087ff; text-decoration-color: #0087ff\">Dense</span>)                 │ (<span style=\"color: #00d7ff; text-decoration-color: #00d7ff\">None</span>, <span style=\"color: #00af00; text-decoration-color: #00af00\">32</span>)             │         <span style=\"color: #00af00; text-decoration-color: #00af00\">2,080</span> │\n",
       "├─────────────────────────────────┼────────────────────────┼───────────────┤\n",
       "│ dense_6 (<span style=\"color: #0087ff; text-decoration-color: #0087ff\">Dense</span>)                 │ (<span style=\"color: #00d7ff; text-decoration-color: #00d7ff\">None</span>, <span style=\"color: #00af00; text-decoration-color: #00af00\">16</span>)             │           <span style=\"color: #00af00; text-decoration-color: #00af00\">528</span> │\n",
       "├─────────────────────────────────┼────────────────────────┼───────────────┤\n",
       "│ dense_7 (<span style=\"color: #0087ff; text-decoration-color: #0087ff\">Dense</span>)                 │ (<span style=\"color: #00d7ff; text-decoration-color: #00d7ff\">None</span>, <span style=\"color: #00af00; text-decoration-color: #00af00\">8</span>)              │           <span style=\"color: #00af00; text-decoration-color: #00af00\">136</span> │\n",
       "├─────────────────────────────────┼────────────────────────┼───────────────┤\n",
       "│ dense_8 (<span style=\"color: #0087ff; text-decoration-color: #0087ff\">Dense</span>)                 │ (<span style=\"color: #00d7ff; text-decoration-color: #00d7ff\">None</span>, <span style=\"color: #00af00; text-decoration-color: #00af00\">4</span>)              │            <span style=\"color: #00af00; text-decoration-color: #00af00\">36</span> │\n",
       "├─────────────────────────────────┼────────────────────────┼───────────────┤\n",
       "│ dense_9 (<span style=\"color: #0087ff; text-decoration-color: #0087ff\">Dense</span>)                 │ (<span style=\"color: #00d7ff; text-decoration-color: #00d7ff\">None</span>, <span style=\"color: #00af00; text-decoration-color: #00af00\">2</span>)              │            <span style=\"color: #00af00; text-decoration-color: #00af00\">10</span> │\n",
       "├─────────────────────────────────┼────────────────────────┼───────────────┤\n",
       "│ dense_10 (<span style=\"color: #0087ff; text-decoration-color: #0087ff\">Dense</span>)                │ (<span style=\"color: #00d7ff; text-decoration-color: #00d7ff\">None</span>, <span style=\"color: #00af00; text-decoration-color: #00af00\">1</span>)              │             <span style=\"color: #00af00; text-decoration-color: #00af00\">3</span> │\n",
       "├─────────────────────────────────┼────────────────────────┼───────────────┤\n",
       "│ activation (<span style=\"color: #0087ff; text-decoration-color: #0087ff\">Activation</span>)         │ (<span style=\"color: #00d7ff; text-decoration-color: #00d7ff\">None</span>, <span style=\"color: #00af00; text-decoration-color: #00af00\">1</span>)              │             <span style=\"color: #00af00; text-decoration-color: #00af00\">0</span> │\n",
       "└─────────────────────────────────┴────────────────────────┴───────────────┘\n",
       "</pre>\n"
      ],
      "text/plain": [
       "┏━━━━━━━━━━━━━━━━━━━━━━━━━━━━━━━━━┳━━━━━━━━━━━━━━━━━━━━━━━━┳━━━━━━━━━━━━━━━┓\n",
       "┃\u001b[1m \u001b[0m\u001b[1mLayer (type)                   \u001b[0m\u001b[1m \u001b[0m┃\u001b[1m \u001b[0m\u001b[1mOutput Shape          \u001b[0m\u001b[1m \u001b[0m┃\u001b[1m \u001b[0m\u001b[1m      Param #\u001b[0m\u001b[1m \u001b[0m┃\n",
       "┡━━━━━━━━━━━━━━━━━━━━━━━━━━━━━━━━━╇━━━━━━━━━━━━━━━━━━━━━━━━╇━━━━━━━━━━━━━━━┩\n",
       "│ dense (\u001b[38;5;33mDense\u001b[0m)                   │ (\u001b[38;5;45mNone\u001b[0m, \u001b[38;5;34m1024\u001b[0m)           │        \u001b[38;5;34m45,056\u001b[0m │\n",
       "├─────────────────────────────────┼────────────────────────┼───────────────┤\n",
       "│ dense_1 (\u001b[38;5;33mDense\u001b[0m)                 │ (\u001b[38;5;45mNone\u001b[0m, \u001b[38;5;34m512\u001b[0m)            │       \u001b[38;5;34m524,800\u001b[0m │\n",
       "├─────────────────────────────────┼────────────────────────┼───────────────┤\n",
       "│ dense_2 (\u001b[38;5;33mDense\u001b[0m)                 │ (\u001b[38;5;45mNone\u001b[0m, \u001b[38;5;34m256\u001b[0m)            │       \u001b[38;5;34m131,328\u001b[0m │\n",
       "├─────────────────────────────────┼────────────────────────┼───────────────┤\n",
       "│ dense_3 (\u001b[38;5;33mDense\u001b[0m)                 │ (\u001b[38;5;45mNone\u001b[0m, \u001b[38;5;34m128\u001b[0m)            │        \u001b[38;5;34m32,896\u001b[0m │\n",
       "├─────────────────────────────────┼────────────────────────┼───────────────┤\n",
       "│ dense_4 (\u001b[38;5;33mDense\u001b[0m)                 │ (\u001b[38;5;45mNone\u001b[0m, \u001b[38;5;34m64\u001b[0m)             │         \u001b[38;5;34m8,256\u001b[0m │\n",
       "├─────────────────────────────────┼────────────────────────┼───────────────┤\n",
       "│ dense_5 (\u001b[38;5;33mDense\u001b[0m)                 │ (\u001b[38;5;45mNone\u001b[0m, \u001b[38;5;34m32\u001b[0m)             │         \u001b[38;5;34m2,080\u001b[0m │\n",
       "├─────────────────────────────────┼────────────────────────┼───────────────┤\n",
       "│ dense_6 (\u001b[38;5;33mDense\u001b[0m)                 │ (\u001b[38;5;45mNone\u001b[0m, \u001b[38;5;34m16\u001b[0m)             │           \u001b[38;5;34m528\u001b[0m │\n",
       "├─────────────────────────────────┼────────────────────────┼───────────────┤\n",
       "│ dense_7 (\u001b[38;5;33mDense\u001b[0m)                 │ (\u001b[38;5;45mNone\u001b[0m, \u001b[38;5;34m8\u001b[0m)              │           \u001b[38;5;34m136\u001b[0m │\n",
       "├─────────────────────────────────┼────────────────────────┼───────────────┤\n",
       "│ dense_8 (\u001b[38;5;33mDense\u001b[0m)                 │ (\u001b[38;5;45mNone\u001b[0m, \u001b[38;5;34m4\u001b[0m)              │            \u001b[38;5;34m36\u001b[0m │\n",
       "├─────────────────────────────────┼────────────────────────┼───────────────┤\n",
       "│ dense_9 (\u001b[38;5;33mDense\u001b[0m)                 │ (\u001b[38;5;45mNone\u001b[0m, \u001b[38;5;34m2\u001b[0m)              │            \u001b[38;5;34m10\u001b[0m │\n",
       "├─────────────────────────────────┼────────────────────────┼───────────────┤\n",
       "│ dense_10 (\u001b[38;5;33mDense\u001b[0m)                │ (\u001b[38;5;45mNone\u001b[0m, \u001b[38;5;34m1\u001b[0m)              │             \u001b[38;5;34m3\u001b[0m │\n",
       "├─────────────────────────────────┼────────────────────────┼───────────────┤\n",
       "│ activation (\u001b[38;5;33mActivation\u001b[0m)         │ (\u001b[38;5;45mNone\u001b[0m, \u001b[38;5;34m1\u001b[0m)              │             \u001b[38;5;34m0\u001b[0m │\n",
       "└─────────────────────────────────┴────────────────────────┴───────────────┘\n"
      ]
     },
     "metadata": {},
     "output_type": "display_data"
    },
    {
     "data": {
      "text/html": [
       "<pre style=\"white-space:pre;overflow-x:auto;line-height:normal;font-family:Menlo,'DejaVu Sans Mono',consolas,'Courier New',monospace\"><span style=\"font-weight: bold\"> Total params: </span><span style=\"color: #00af00; text-decoration-color: #00af00\">745,129</span> (2.84 MB)\n",
       "</pre>\n"
      ],
      "text/plain": [
       "\u001b[1m Total params: \u001b[0m\u001b[38;5;34m745,129\u001b[0m (2.84 MB)\n"
      ]
     },
     "metadata": {},
     "output_type": "display_data"
    },
    {
     "data": {
      "text/html": [
       "<pre style=\"white-space:pre;overflow-x:auto;line-height:normal;font-family:Menlo,'DejaVu Sans Mono',consolas,'Courier New',monospace\"><span style=\"font-weight: bold\"> Trainable params: </span><span style=\"color: #00af00; text-decoration-color: #00af00\">745,129</span> (2.84 MB)\n",
       "</pre>\n"
      ],
      "text/plain": [
       "\u001b[1m Trainable params: \u001b[0m\u001b[38;5;34m745,129\u001b[0m (2.84 MB)\n"
      ]
     },
     "metadata": {},
     "output_type": "display_data"
    },
    {
     "data": {
      "text/html": [
       "<pre style=\"white-space:pre;overflow-x:auto;line-height:normal;font-family:Menlo,'DejaVu Sans Mono',consolas,'Courier New',monospace\"><span style=\"font-weight: bold\"> Non-trainable params: </span><span style=\"color: #00af00; text-decoration-color: #00af00\">0</span> (0.00 B)\n",
       "</pre>\n"
      ],
      "text/plain": [
       "\u001b[1m Non-trainable params: \u001b[0m\u001b[38;5;34m0\u001b[0m (0.00 B)\n"
      ]
     },
     "metadata": {},
     "output_type": "display_data"
    }
   ],
   "source": [
    "keras.layers.BatchNormalization()\n",
    "model = Sequential()\n",
    "#First Hidden Layer\n",
    "model.add(Dense(1024, activation='relu', kernel_initializer='random_normal', input_dim=43)) #As we have 43 columns\n",
    "\n",
    "#All other hidden layers in a for loop with nodes reducing in each loop\n",
    "nodes = 1024\n",
    "for i in range(9):\n",
    "    nodes = nodes // 2\n",
    "    model.add(Dense(nodes, activation='relu', kernel_initializer='random_normal'))\n",
    "\n",
    "#Output Layer\n",
    "model.add(Dense(1))\n",
    "model.add(Activation('sigmoid'))\n",
    "\n",
    "model.summary()"
   ]
  },
  {
   "cell_type": "markdown",
   "id": "39411e81",
   "metadata": {},
   "source": [
    "As F1 score is not accessible in Keras, binary crossentropy is used to measure loss and accuracy because the output data is binary classification."
   ]
  },
  {
   "cell_type": "code",
   "execution_count": 51,
   "id": "9c28394f",
   "metadata": {},
   "outputs": [],
   "source": [
    "## Compiling the model created\n",
    "\n",
    "model.compile(optimizer='adam',loss='binary_crossentropy',metrics=['accuracy'])"
   ]
  },
  {
   "cell_type": "markdown",
   "id": "fc6109fb",
   "metadata": {},
   "source": [
    "### Fitting the model using custom neural network"
   ]
  },
  {
   "cell_type": "markdown",
   "id": "77206bd4",
   "metadata": {},
   "source": [
    "Intitally we'll tried with 10 epochs which had a good accuracy but the loss was high, then we increased it to 15 which reduced the loss significantly and we stopped there to avoid overfitting of the data. "
   ]
  },
  {
   "cell_type": "code",
   "execution_count": 52,
   "id": "b61e8640",
   "metadata": {},
   "outputs": [
    {
     "name": "stdout",
     "output_type": "stream",
     "text": [
      "Epoch 1/15\n",
      "\u001b[1m223/223\u001b[0m \u001b[32m━━━━━━━━━━━━━━━━━━━━\u001b[0m\u001b[37m\u001b[0m \u001b[1m5s\u001b[0m 18ms/step - accuracy: 0.9765 - loss: 0.3368\n",
      "Epoch 2/15\n",
      "\u001b[1m223/223\u001b[0m \u001b[32m━━━━━━━━━━━━━━━━━━━━\u001b[0m\u001b[37m\u001b[0m \u001b[1m5s\u001b[0m 22ms/step - accuracy: 0.9776 - loss: 0.0554\n",
      "Epoch 3/15\n",
      "\u001b[1m223/223\u001b[0m \u001b[32m━━━━━━━━━━━━━━━━━━━━\u001b[0m\u001b[37m\u001b[0m \u001b[1m4s\u001b[0m 20ms/step - accuracy: 0.9773 - loss: 0.0528\n",
      "Epoch 4/15\n",
      "\u001b[1m223/223\u001b[0m \u001b[32m━━━━━━━━━━━━━━━━━━━━\u001b[0m\u001b[37m\u001b[0m \u001b[1m5s\u001b[0m 21ms/step - accuracy: 0.9778 - loss: 0.0491\n",
      "Epoch 5/15\n",
      "\u001b[1m223/223\u001b[0m \u001b[32m━━━━━━━━━━━━━━━━━━━━\u001b[0m\u001b[37m\u001b[0m \u001b[1m5s\u001b[0m 24ms/step - accuracy: 0.9775 - loss: 0.0488\n",
      "Epoch 6/15\n",
      "\u001b[1m223/223\u001b[0m \u001b[32m━━━━━━━━━━━━━━━━━━━━\u001b[0m\u001b[37m\u001b[0m \u001b[1m5s\u001b[0m 21ms/step - accuracy: 0.9777 - loss: 0.0469\n",
      "Epoch 7/15\n",
      "\u001b[1m223/223\u001b[0m \u001b[32m━━━━━━━━━━━━━━━━━━━━\u001b[0m\u001b[37m\u001b[0m \u001b[1m5s\u001b[0m 23ms/step - accuracy: 0.9780 - loss: 0.0447\n",
      "Epoch 8/15\n",
      "\u001b[1m223/223\u001b[0m \u001b[32m━━━━━━━━━━━━━━━━━━━━\u001b[0m\u001b[37m\u001b[0m \u001b[1m5s\u001b[0m 20ms/step - accuracy: 0.9776 - loss: 0.0429\n",
      "Epoch 9/15\n",
      "\u001b[1m223/223\u001b[0m \u001b[32m━━━━━━━━━━━━━━━━━━━━\u001b[0m\u001b[37m\u001b[0m \u001b[1m5s\u001b[0m 21ms/step - accuracy: 0.9784 - loss: 0.0417\n",
      "Epoch 10/15\n",
      "\u001b[1m223/223\u001b[0m \u001b[32m━━━━━━━━━━━━━━━━━━━━\u001b[0m\u001b[37m\u001b[0m \u001b[1m6s\u001b[0m 29ms/step - accuracy: 0.9822 - loss: 0.0391\n",
      "Epoch 11/15\n",
      "\u001b[1m223/223\u001b[0m \u001b[32m━━━━━━━━━━━━━━━━━━━━\u001b[0m\u001b[37m\u001b[0m \u001b[1m8s\u001b[0m 36ms/step - accuracy: 0.9832 - loss: 0.0357\n",
      "Epoch 12/15\n",
      "\u001b[1m223/223\u001b[0m \u001b[32m━━━━━━━━━━━━━━━━━━━━\u001b[0m\u001b[37m\u001b[0m \u001b[1m6s\u001b[0m 26ms/step - accuracy: 0.9843 - loss: 0.0339\n",
      "Epoch 13/15\n",
      "\u001b[1m223/223\u001b[0m \u001b[32m━━━━━━━━━━━━━━━━━━━━\u001b[0m\u001b[37m\u001b[0m \u001b[1m5s\u001b[0m 23ms/step - accuracy: 0.9849 - loss: 0.0330\n",
      "Epoch 14/15\n",
      "\u001b[1m223/223\u001b[0m \u001b[32m━━━━━━━━━━━━━━━━━━━━\u001b[0m\u001b[37m\u001b[0m \u001b[1m8s\u001b[0m 37ms/step - accuracy: 0.9868 - loss: 0.0294\n",
      "Epoch 15/15\n",
      "\u001b[1m223/223\u001b[0m \u001b[32m━━━━━━━━━━━━━━━━━━━━\u001b[0m\u001b[37m\u001b[0m \u001b[1m8s\u001b[0m 35ms/step - accuracy: 0.9872 - loss: 0.0278\n"
     ]
    }
   ],
   "source": [
    "csvlogger = CSVLogger('training.log',separator=',',append=False)\n",
    "\n",
    "result = model.fit(X_train, y_train, batch_size = 512, epochs = 15, callbacks=[csvlogger])"
   ]
  },
  {
   "cell_type": "code",
   "execution_count": 53,
   "id": "bc621436",
   "metadata": {},
   "outputs": [
    {
     "data": {
      "text/plain": [
       "<matplotlib.legend.Legend at 0x2dacf2810>"
      ]
     },
     "execution_count": 53,
     "metadata": {},
     "output_type": "execute_result"
    }
   ],
   "source": [
    "plt.plot(result.history['accuracy'],'green',label='Accuracy')\n",
    "plt.plot(result.history['loss'],'red',label='Loss')\n",
    "plt.title('Training Accuracy & Loss')\n",
    "plt.xlabel('Epoch')\n",
    "plt.legend(loc=0)"
   ]
  },
  {
   "cell_type": "code",
   "execution_count": 54,
   "id": "5df25416",
   "metadata": {},
   "outputs": [
    {
     "name": "stdout",
     "output_type": "stream",
     "text": [
      "\u001b[1m3554/3554\u001b[0m \u001b[32m━━━━━━━━━━━━━━━━━━━━\u001b[0m\u001b[37m\u001b[0m \u001b[1m8s\u001b[0m 2ms/step - accuracy: 0.9882 - loss: 0.0261\n",
      "\u001b[1m1524/1524\u001b[0m \u001b[32m━━━━━━━━━━━━━━━━━━━━\u001b[0m\u001b[37m\u001b[0m \u001b[1m3s\u001b[0m 2ms/step - accuracy: 0.9790 - loss: 0.0674\n",
      "accuracy for Train set is [0.026415517553687096, 0.9878831505775452]\n",
      "accuracy for Test set is [0.06531106680631638, 0.9784780740737915]\n",
      "\u001b[1m96/96\u001b[0m \u001b[32m━━━━━━━━━━━━━━━━━━━━\u001b[0m\u001b[37m\u001b[0m \u001b[1m1s\u001b[0m 8ms/step\n",
      "0.9653297639890498\n"
     ]
    }
   ],
   "source": [
    "# Predicting the custom model model\n",
    "\n",
    "train_evaluate=model.evaluate(X_train, y_train)\n",
    "test_evaluate=model.evaluate(X_test, y_test)\n",
    "print('accuracy for Train set is',train_evaluate)\n",
    "print('accuracy for Test set is',test_evaluate) # evaluation of model.\n",
    "yf_pred1=model.predict(X_test,batch_size=512,verbose=1)\n",
    "yf_pred=np.argmax(yf_pred1,axis=1)\n",
    "print(f1_score(y_test,yf_pred,average=\"weighted\"))"
   ]
  },
  {
   "cell_type": "markdown",
   "id": "66e56c7a",
   "metadata": {},
   "source": [
    "As we can see that the Train and test accuracy is very high at ~99% and loss is at ~8.88%.  \n",
    "Along with that the F1 Score calculated is 96.58%. "
   ]
  },
  {
   "cell_type": "code",
   "execution_count": null,
   "id": "2d83f502",
   "metadata": {},
   "outputs": [],
   "source": []
  },
  {
   "cell_type": "markdown",
   "id": "1a431811",
   "metadata": {},
   "source": [
    "## Validating the Models"
   ]
  },
  {
   "cell_type": "markdown",
   "id": "42fb04fb",
   "metadata": {},
   "source": [
    "### MLP Classifier"
   ]
  },
  {
   "cell_type": "code",
   "execution_count": 55,
   "id": "f57fdf5d",
   "metadata": {},
   "outputs": [
    {
     "data": {
      "text/plain": [
       "array([0, 0, 0, ..., 0, 0, 0])"
      ]
     },
     "execution_count": 55,
     "metadata": {},
     "output_type": "execute_result"
    }
   ],
   "source": [
    "## Predicting the validation dataset\n",
    "\n",
    "clf_pred = clf.predict(X_valid)\n",
    "clf_pred"
   ]
  },
  {
   "cell_type": "code",
   "execution_count": 56,
   "id": "27a9dc42",
   "metadata": {},
   "outputs": [
    {
     "name": "stdout",
     "output_type": "stream",
     "text": [
      "Confusion Matrix (Accuracy 0.9787)\n",
      "\n",
      "       Prediction\n",
      "Actual     0     1\n",
      "     0 17532   130\n",
      "     1   254   136\n"
     ]
    }
   ],
   "source": [
    "## Classification Matrix for Validation Dataset\n",
    "\n",
    "classificationSummary(y_valid, clf.predict(X_valid), class_names=classes)"
   ]
  },
  {
   "cell_type": "code",
   "execution_count": 57,
   "id": "85e14611",
   "metadata": {},
   "outputs": [
    {
     "data": {
      "text/plain": [
       "0.9787281187680036"
      ]
     },
     "execution_count": 57,
     "metadata": {},
     "output_type": "execute_result"
    }
   ],
   "source": [
    "accuracy_score(y_valid,clf_pred)"
   ]
  },
  {
   "cell_type": "markdown",
   "id": "3bfd8671",
   "metadata": {},
   "source": []
  },
  {
   "cell_type": "markdown",
   "id": "b9ebd8f2",
   "metadata": {},
   "source": [
    "### Custom NN"
   ]
  },
  {
   "cell_type": "code",
   "execution_count": 58,
   "id": "964593c3",
   "metadata": {},
   "outputs": [
    {
     "name": "stdout",
     "output_type": "stream",
     "text": [
      "\u001b[1m565/565\u001b[0m \u001b[32m━━━━━━━━━━━━━━━━━━━━\u001b[0m\u001b[37m\u001b[0m \u001b[1m2s\u001b[0m 3ms/step\n"
     ]
    }
   ],
   "source": [
    "predictions = model.predict(X_valid)"
   ]
  },
  {
   "cell_type": "code",
   "execution_count": 59,
   "id": "774e5d03",
   "metadata": {},
   "outputs": [],
   "source": [
    "predictions = (predictions > 0.5).astype(np.float32)"
   ]
  },
  {
   "cell_type": "code",
   "execution_count": 60,
   "id": "90e8cd6a",
   "metadata": {},
   "outputs": [
    {
     "data": {
      "text/plain": [
       "array([[0.],\n",
       "       [0.],\n",
       "       [0.],\n",
       "       ...,\n",
       "       [0.],\n",
       "       [0.],\n",
       "       [0.]], dtype=float32)"
      ]
     },
     "execution_count": 60,
     "metadata": {},
     "output_type": "execute_result"
    }
   ],
   "source": [
    "predictions"
   ]
  },
  {
   "cell_type": "code",
   "execution_count": 61,
   "id": "8eb08866",
   "metadata": {},
   "outputs": [
    {
     "data": {
      "text/plain": [
       "0.9795036561045868"
      ]
     },
     "execution_count": 61,
     "metadata": {},
     "output_type": "execute_result"
    }
   ],
   "source": [
    "accuracy_score(y_valid,predictions)"
   ]
  },
  {
   "cell_type": "code",
   "execution_count": 62,
   "id": "fe7e209b",
   "metadata": {},
   "outputs": [],
   "source": [
    "keras.backend.clear_session()"
   ]
  }
 ],
 "metadata": {
  "kernelspec": {
   "display_name": "Python 3 (ipykernel)",
   "language": "python",
   "name": "python3"
  },
  "language_info": {
   "codemirror_mode": {
    "name": "ipython",
    "version": 3
   },
   "file_extension": ".py",
   "mimetype": "text/x-python",
   "name": "python",
   "nbconvert_exporter": "python",
   "pygments_lexer": "ipython3",
   "version": "3.11.3"
  }
 },
 "nbformat": 4,
 "nbformat_minor": 5
}
